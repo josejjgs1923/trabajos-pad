{
 "cells": [
  {
   "cell_type": "markdown",
   "metadata": {
    "id": "xQq4Vi32-hdJ"
   },
   "source": [
    "\n",
    "<img src=\"https://www.unad.edu.co/images/footer/logo-unad-acreditacion-min.png\" width=\"780\" height=\"140\" align=\"center\"/>"
   ]
  },
  {
   "cell_type": "markdown",
   "metadata": {
    "id": "Fn5lIj0dj7Ju"
   },
   "source": [
    "<p align=\"right\">Curso: Programación Para el Analisis de datos</p>\n",
    "\n",
    "<p align=\"center\"> Código Curso: 203008069 </p>\n",
    "\n",
    "<p align=\"center\"> Grupo: 13 </p>\n",
    "\n",
    " <p align=\"center\"> Tarea 1 - Principios básicos de programación científica</p>\n",
    "\n",
    " <p align=\"center\">  Presentado por: Juan José García Sánchez</p>\n",
    "\n",
    "<p align=\"center\"> Código: 1005095836</p>\n",
    "\n",
    " <p align=\"center\"> Tutor(a): Miguel Angel Vargas Valencia </p>\n",
    "\n",
    " <p align=\"center\"> 01/10/2024</p>\n",
    "\n",
    " <p align=\"center\"> UNIVERSIDAD NACIONAL ABIERTA Y A DISTANCIA </p>\n",
    "\n"
   ]
  },
  {
   "cell_type": "markdown",
   "metadata": {},
   "source": [
    "# Importar paquetes de datos relevantes"
   ]
  },
  {
   "cell_type": "code",
   "execution_count": 4,
   "metadata": {},
   "outputs": [],
   "source": [
    "import pandas as pd \n",
    "import numpy as np\n",
    "import matplotlib.pyplot as plt\n",
    "from sklearn.datasets import load_breast_cancer"
   ]
  },
  {
   "cell_type": "markdown",
   "metadata": {},
   "source": [
    "# Ejercicio 1: Estructuras Básicas de Datos con Python"
   ]
  },
  {
   "cell_type": "markdown",
   "metadata": {
    "colab": {
     "base_uri": "https://localhost:8080/"
    },
    "id": "e55mgKkuW1y6",
    "outputId": "33c3965e-5804-41e7-8669-b676570e7ce3"
   },
   "source": [
    "En el fragmento de codigo siguiente, se define la estructura con datos sobre mis familiares. esta se conforma con llaves conteniendo el nombre y apellido separados de coma, y con valores siendo tuplas conteniendo en orden: edad, peso, altura, y si se encuentra estudiando alguna carrera o no."
   ]
  },
  {
   "cell_type": "code",
   "execution_count": 5,
   "metadata": {
    "id": "XNraS_lWFkk_",
    "jp-MarkdownHeadingCollapsed": true
   },
   "outputs": [],
   "source": [
    "#formato de los datos: \n",
    "#familiares (llaves): \"nombre,apellido\"\n",
    "#informacion: (edad (años), peso(kg), altura(metros), estudia(booleano))\n",
    "\n",
    "info_familiares = {\n",
    "    \"Sebastia,Garcia\":(22, 68, 1.85, False), # hermano medio\n",
    "    \"Pablo,Garcia\":   (18, 70, 1.72, True),  # hermano menor\n",
    "    \"Marleny,Alvarez\":(72, 80, 1.60, False), # abuela materna\n",
    "    \"Arnoldo,Sanchez\":(80, 78, 1.72, False), # abuela materno\n",
    "    \"Cielo,Sanchez\":  (54, 54, 1.60, False), # madre\n",
    "    \"Carlos,Garcia\":  (50, 68, 1.72, False), # padre\n",
    "    \"Andrew,Garcia\":   (30, 80, 1.72, False), # hermanastro paterno\n",
    "    \"Luz,Hernandez\":  (60, 70, 1.65, False)  # tia paterna\n",
    "}"
   ]
  },
  {
   "cell_type": "markdown",
   "metadata": {},
   "source": [
    "## Definir funcion promedio"
   ]
  },
  {
   "cell_type": "markdown",
   "metadata": {},
   "source": [
    "Funcion simple, que toma una variable de datos como una lista, y despues calcula un promedio simple."
   ]
  },
  {
   "cell_type": "code",
   "execution_count": 6,
   "metadata": {},
   "outputs": [],
   "source": [
    "def promedio(datos: list[float|int]):\n",
    "    \"\"\"\n",
    "    Calcula promedio de iterables numericos, generalmente listas\n",
    "    \"\"\"\n",
    "    return sum(datos) / len(datos)"
   ]
  },
  {
   "cell_type": "markdown",
   "metadata": {},
   "source": [
    "## Mostrando estadisticas"
   ]
  },
  {
   "cell_type": "markdown",
   "metadata": {},
   "source": [
    "El ejercicio se puede realizar por medio de iteración o de comprensiones de listas. En este caso, se realizara por medio de iteraciones, ya que se entiende mas facilmente.\n",
    "se crea un diccionario con listas sin elementos. Esto facilita la identificacion de que promedios se calculand despues.\n",
    "\n",
    "Se itera sobre el diccionario de info_familiares una vez para extraer los datos en las listas relevantes dentro del diccionario. Despues, con el agregado de los datos, se itera y calcula los promedios correspondientes a las variables numericas."
   ]
  },
  {
   "cell_type": "code",
   "execution_count": 16,
   "metadata": {},
   "outputs": [
    {
     "name": "stdout",
     "output_type": "stream",
     "text": [
      "el promedio de edades  en mi grupo familiar: 48.25\n",
      "el promedio de pesos   en mi grupo familiar: 71.00\n",
      "el promedio de alturas en mi grupo familiar: 1.70\n",
      "el promedio de esta_estudiando en mi grupo familiar: 0.12\n"
     ]
    }
   ],
   "source": [
    "#estructura de datos donde se depositan los datos.\n",
    "agregados = { \n",
    "    \"edades\" : list(),\n",
    "    \"pesos\" : list(),\n",
    "    \"alturas\" : list(),\n",
    "    \"esta_estudiando\" : list()\n",
    "}\n",
    "\n",
    "#iterar sobre informacion de familiares, para aplanar los datos en las listas.\n",
    "for edad, peso, altura, estudia in info_familiares.values():\n",
    "    agregados[\"edades\"].append(edad)\n",
    "    agregados[\"pesos\"].append(peso)\n",
    "    agregados[\"alturas\"].append(altura)\n",
    "    agregados[\"esta_estudiando\"].append(estudia)\n",
    "\n",
    "#calculando finalmente los promedios de los datos\n",
    "for variable, conjunto in agregados.items():\n",
    "    pro = promedio(conjunto)\n",
    "\n",
    "    #se imprime el nombre de la variable, concatenando espacios para alinear todos los nombres\n",
    "    print(f\"el promedio de {variable:<7} en mi grupo familiar: {pro:.2f}\")\n"
   ]
  },
  {
   "cell_type": "markdown",
   "metadata": {},
   "source": [
    "## Conclusiones:"
   ]
  },
  {
   "cell_type": "markdown",
   "metadata": {},
   "source": [
    "las edades en recolectadas son variadas: hay personas jovenes, de mediana edad y adultos mayores. Esto explica que la edad promedio sea de 48.25 años, ya que se intenta equilibrar entre los extremos. El promedio de altura se ve sesgado por la altura de los hombres, ya que hay mas (5) que las mujeres. Este Tambien esta algo por encima del promedio de altura colombiano para los hombres (1.69) *(Roser et al., 2024)*. \n",
    "\n",
    "El promedio de peso es bastante alto, acercandose a los 100 kg. Esto sugiere que se deben hacer más analisis para evaluar la salud de la muestra de personas. El promedio calculado para el estatus de estudio no tiene sentido. El lenguaje permite usar booleanos como números, ya que son subclases de la clase Entero (int) en python, pero la variable es categorica, y no se le deberia calcular el promedio."
   ]
  },
  {
   "cell_type": "markdown",
   "metadata": {},
   "source": [
    "# Ejercicio 2: Estructuras de Datos y DataFrames"
   ]
  },
  {
   "cell_type": "markdown",
   "metadata": {},
   "source": [
    "## Carga de bases de datos"
   ]
  },
  {
   "cell_type": "code",
   "execution_count": 17,
   "metadata": {},
   "outputs": [],
   "source": [
    "# cargando datos de las atenciones medicas anexo 1\n",
    "df1: pd.DataFrame = pd.read_csv(\"base_atenciones_medicas.csv\", delimiter=\";\")\n",
    "\n",
    "#cargando datos de vivienda del anexo 2\n",
    "df2: pd.DataFrame = pd.read_csv(\"Anexo 2 - Base de Datos CSV.csv\")\n",
    "\n",
    "#cargando datos del cancer de pecho de sklearn\n",
    "datos_cancer = load_breast_cancer(as_frame=True)\n",
    "df3: pd.DataFrame = datos_cancer.data"
   ]
  },
  {
   "cell_type": "markdown",
   "metadata": {},
   "source": [
    "## Definir funciones muestran propiedades de las bases"
   ]
  },
  {
   "cell_type": "markdown",
   "metadata": {},
   "source": [
    "Se definieron dos funciones: una para mostrar los campos de todos los datasets en el panel, y otra para imprimir el numero de elementos en los datasets, dividiendolos en registros y campos.\n",
    "\n",
    "El manejo de DataFrames se obtuvo de *(Kane, 2017)*\n"
   ]
  },
  {
   "cell_type": "code",
   "execution_count": 9,
   "metadata": {},
   "outputs": [],
   "source": [
    "# se definen las funciones del ejercicio\n",
    "\n",
    "def mostrar_campos(panel: dict[pd.DataFrame]):\n",
    "    \"\"\"\n",
    "    imprime los campos de todas las bases de datos en el panel.\n",
    "    \"\"\"\n",
    "    for nombre, datos in panel.items():\n",
    "        print(f\"Mostrando datos para: {nombre}\")\n",
    "        \n",
    "        print(f\"\\t{list(datos.columns)}\", \"\\n\")\n",
    "\n",
    "def mostrar_cantidad(panel: dict[pd.DataFrame]):\n",
    "    \"\"\"\n",
    "    imprime la cantidad de registros y campos de todas las bases del panel\n",
    "    \"\"\"\n",
    "    mayor_nombre = len(max((key for key in panel.keys()), key=len)) + 2\n",
    "    \n",
    "    for nombre, datos in panel.items():\n",
    "        num_registros, num_campos = datos.shape\n",
    "\n",
    "        nombre = f\"'{nombre}'\"\n",
    "        \n",
    "        print(f\"para base {nombre: <{mayor_nombre}} -> registros : {num_registros}, campos: {num_campos}\")\n",
    "    "
   ]
  },
  {
   "cell_type": "markdown",
   "metadata": {},
   "source": [
    "## Definir el panel"
   ]
  },
  {
   "cell_type": "code",
   "execution_count": 10,
   "metadata": {},
   "outputs": [],
   "source": [
    "panel = {\n",
    "    \"atencion_medica\":df1,\n",
    "    \"vivenda\":df2,\n",
    "    \"cancer_pecho\":df3\n",
    "}"
   ]
  },
  {
   "cell_type": "markdown",
   "metadata": {},
   "source": [
    "## Extrayendo campos del panel"
   ]
  },
  {
   "cell_type": "code",
   "execution_count": 11,
   "metadata": {},
   "outputs": [
    {
     "name": "stdout",
     "output_type": "stream",
     "text": [
      "Mostrando datos para: atencion_medica\n",
      "\t['Empresa', 'Turno', 'Día de la semana', 'Experiencia del conductor', 'Formación del Paramédico', 'Nivel del Paramédico', 'Cantidad de atenciones', 'Distancia recorrida (Km)', 'Velocidad máxima (Km/h)', 'Consumo de combustible (Galones)', 'Tiempo en Movimiento (h)', 'Tiempo motor ON (h)'] \n",
      "\n",
      "Mostrando datos para: vivenda\n",
      "\t['longitude', 'latitude', 'housing_median_age', 'total_rooms', 'total_bedrooms', 'population', 'households', 'median_income', 'median_house_value'] \n",
      "\n",
      "Mostrando datos para: cancer_pecho\n",
      "\t['mean radius', 'mean texture', 'mean perimeter', 'mean area', 'mean smoothness', 'mean compactness', 'mean concavity', 'mean concave points', 'mean symmetry', 'mean fractal dimension', 'radius error', 'texture error', 'perimeter error', 'area error', 'smoothness error', 'compactness error', 'concavity error', 'concave points error', 'symmetry error', 'fractal dimension error', 'worst radius', 'worst texture', 'worst perimeter', 'worst area', 'worst smoothness', 'worst compactness', 'worst concavity', 'worst concave points', 'worst symmetry', 'worst fractal dimension'] \n",
      "\n"
     ]
    }
   ],
   "source": [
    "mostrar_campos(panel)"
   ]
  },
  {
   "cell_type": "markdown",
   "metadata": {},
   "source": [
    "## Extrayendo Tamaños de bases del panel"
   ]
  },
  {
   "cell_type": "code",
   "execution_count": 12,
   "metadata": {},
   "outputs": [
    {
     "name": "stdout",
     "output_type": "stream",
     "text": [
      "para base 'atencion_medica' -> registros : 2200, campos: 12\n",
      "para base 'vivenda'         -> registros : 3000, campos: 9\n",
      "para base 'cancer_pecho'    -> registros : 569, campos: 30\n"
     ]
    }
   ],
   "source": [
    "mostrar_cantidad(panel)"
   ]
  },
  {
   "cell_type": "markdown",
   "metadata": {},
   "source": [
    "## Cantidad de elementos que se refieren a la empresa TAC"
   ]
  },
  {
   "cell_type": "code",
   "execution_count": 13,
   "metadata": {},
   "outputs": [
    {
     "name": "stdout",
     "output_type": "stream",
     "text": [
      "registros encontrados con la empresa 'TAC' : 596\n"
     ]
    }
   ],
   "source": [
    "empresa = \"TAC\"\n",
    "\n",
    "datos_empresa_tac = df1[df1[\"Empresa\"] == empresa]\n",
    "\n",
    "print(f\"registros encontrados con la empresa '{empresa}' : {datos_empresa_tac.shape[0]}\" )\n"
   ]
  },
  {
   "cell_type": "markdown",
   "metadata": {},
   "source": [
    "## Cantidad de elementos nulos en la base de datos sobre viviend, por campos"
   ]
  },
  {
   "cell_type": "code",
   "execution_count": 14,
   "metadata": {},
   "outputs": [
    {
     "name": "stdout",
     "output_type": "stream",
     "text": [
      "Las cantidad de elementos nulos en la base de vivienda, por campo:\n",
      "longitude             0\n",
      "latitude              5\n",
      "housing_median_age    1\n",
      "total_rooms           1\n",
      "total_bedrooms        1\n",
      "population            3\n",
      "households            2\n",
      "median_income         2\n",
      "median_house_value    0\n",
      "dtype: int64\n"
     ]
    }
   ],
   "source": [
    "print(\"Las cantidad de elementos nulos en la base de vivienda, por campo:\")\n",
    "\n",
    "# se hallan los registros nulos y se suman sobre los campos del dataset\n",
    "nulos = df2.isnull().sum()\n",
    "\n",
    "print(nulos)"
   ]
  },
  {
   "cell_type": "markdown",
   "metadata": {},
   "source": [
    "# Ejercicio 3: Gráficos científicos."
   ]
  },
  {
   "cell_type": "markdown",
   "metadata": {},
   "source": [
    "## Grafico 1:"
   ]
  },
  {
   "cell_type": "markdown",
   "metadata": {},
   "source": [
    "Para hacer el grafico, se uso la interfaz orientada a objetos de *Matplotlib* ya que es mas facil de usar para casos en los que se necesita mucha personalización. \n",
    "\n",
    "Por medio de la funcion ```plt.figure``` se obtuvo un canvas en blanco de tipo ```Figure```, y de este se obtuvo un objeto ```ax``` de tipo ```Axes``` usando ```add_subplot```, que agrega un plano de coordenadas unico al grafico. el objeto ```Axes```  permite controlar que se grafica, los titulos, y el estilo de los puntos y grafica. los titulos del eje y, eje x y de la grafica se colocaron mediante ```ax.set_xlabel```, ```ax.set_ylabel``` y ```ax.set_title```\n",
    "\n",
    "- los puntos de dispersion se graficaron con la funcion de ```ax.scatter```\n",
    "- Las funciones se graficaron con la funcion ```ax.plot```\n",
    "- La apariencia se controló con los argumentos comunes de ```marker```, ```color```, y ```label```; para asignar el indicador, el color, y la leyenda de los puntos.\n",
    "\n",
    "Las funciones ```ax.legend``` y ```plt.show``` agregan leyendas de las tendencias al grafico, y muestran el grafico terminado.\n",
    "\n",
    "El uso de la interfaz orientada a objetos se obtuvo de *(Thakur, 2016)*"
   ]
  },
  {
   "cell_type": "code",
   "execution_count": 12,
   "metadata": {},
   "outputs": [
    {
     "data": {
      "image/png": "[encoded data removed]",
      "text/plain": [
       "<Figure size 500x500 with 1 Axes>"
      ]
     },
     "metadata": {},
     "output_type": "display_data"
    }
   ],
   "source": [
    "# graficando puntos de dispersion\n",
    "\n",
    "x = [13, 14, 15, 16, 17, 18]\n",
    "y = [16, 24, 45, 57 , 75, 102]\n",
    "\n",
    "fig1 = plt.figure(figsize=(5,5))\n",
    "\n",
    "ax = fig1.add_subplot(1, 1, 1)\n",
    "\n",
    "ax.scatter(x, y, color=\"b\", marker=\"*\", label=\"dispersion\")\n",
    "\n",
    "# graficando la funcion lineal dada\n",
    "\n",
    "rango = np.linspace(13,18, 20)\n",
    "\n",
    "y_lineal = 17*rango - 210.3333\n",
    "\n",
    "ax.plot(rango, y_lineal, \"g-\", label=\"lineal\")\n",
    "\n",
    "# graficando la funcion exponencial\n",
    "\n",
    "y_exp = 0.1452*np.exp(0.369*rango)\n",
    "\n",
    "ax.plot(rango, y_exp, \"r-\", label=\"exponencial\")\n",
    "\n",
    "# graficando la funcion logaritmica\n",
    "\n",
    "y_log = 259.49*np.log(rango) - 656.46\n",
    "\n",
    "ax.plot(rango, y_log, color=\"k\", linestyle=\"--\", label=\"logaritmico\")\n",
    "\n",
    "# fijar elementos extras del grafico\n",
    "\n",
    "ax.set_title(\"Comparacion de Funciones\")\n",
    "\n",
    "ax.set_xlabel(\"dominio x\")\n",
    "\n",
    "ax.set_ylabel(\"rango y\")\n",
    "\n",
    "ax.legend()\n",
    "\n",
    "# mostrar finalmente el grafico creado\n",
    "\n",
    "plt.show()"
   ]
  },
  {
   "cell_type": "markdown",
   "metadata": {},
   "source": [
    "## Analisis de tendencias"
   ]
  },
  {
   "cell_type": "markdown",
   "metadata": {},
   "source": [
    "La gráfica representa los diferentes ajustes que se le podrian aplicar a los puntos de dispersión, usando varios modelos comunes. No se especifica los métodos usados para ajustar, pero se puede suponer que el ajuste por minimos cuadrados fue usado en  todos los casos. Graficamente, se puede ver que los mejores modelos serian el lineal o el logaritmico."
   ]
  },
  {
   "cell_type": "markdown",
   "metadata": {},
   "source": [
    "## Grafico 2: "
   ]
  },
  {
   "cell_type": "markdown",
   "metadata": {},
   "source": [
    "Para este caso, se uso la interfaz funcional de maplotlib, debido a las necesidades simples. se definen las variables globales para graficar y analisis."
   ]
  },
  {
   "cell_type": "code",
   "execution_count": 13,
   "metadata": {},
   "outputs": [],
   "source": [
    "## extrayendo variables para el analisis individualmente\n",
    "\n",
    "tiempos_motor_encendido = df1[\"Tiempo motor ON (h)\"]\n",
    "\n",
    "tiempos_movimiento = df1[\"Tiempo en Movimiento (h)\"]"
   ]
  },
  {
   "cell_type": "markdown",
   "metadata": {},
   "source": [
    "### Histogramas"
   ]
  },
  {
   "cell_type": "markdown",
   "metadata": {},
   "source": [
    "Se uso la funcion `plt.hist` para realizar los histogramas de los tiempos. Es el mas adecuado, dando que los tiempos son variables numericas continuas. \n",
    "No se calculó una cantidad de categorias para los datos, se uso por defecto las diez categorias dadas por numpy (la funcion `plt.hist` usa la funcion `hist` de numpy).\n",
    "la transparencia se estableción en ambos graficos con el parametro ```alpha```, comun a todas las funciones de matplotlib.\n",
    "\n",
    "El manejo de las funciones de graficacion de obtuvo de *(Thakur, 2016)*, y el uso de la funcion `hist` : [Referencia API pyplot.hist](https://matplotlib.org/stable/api/_as_gen/matplotlib.pyplot.hist.html)"
   ]
  },
  {
   "cell_type": "code",
   "execution_count": 14,
   "metadata": {},
   "outputs": [
    {
     "data": {
      "image/png": "[encoded data removed]",
      "text/plain": [
       "<Figure size 640x480 with 1 Axes>"
      ]
     },
     "metadata": {},
     "output_type": "display_data"
    }
   ],
   "source": [
    "#graficando histograma del tiempo en el cual el motor estuvo encendido continuamente\n",
    "plt.hist(tiempos_motor_encendido, alpha=0.6, label=\"motor encedido\")\n",
    "\n",
    "#graficando histograma del tiempo en el cual la ambulancia estuvo en movimiento\n",
    "plt.hist(tiempos_movimiento, color=\"r\", alpha=0.5, label=\"movimiento\")\n",
    "\n",
    "#ajustando titulos, mostrando leyendas y el grafico\n",
    "plt.title(\"Perfiles Tiempos motor encendido y en movimiento\")\n",
    "\n",
    "plt.xlabel(\"Tiempo [h]\")\n",
    "\n",
    "plt.ylabel(\"Cantidad de Viajes\")\n",
    "\n",
    "plt.legend()\n",
    "\n",
    "plt.show()"
   ]
  },
  {
   "cell_type": "markdown",
   "metadata": {},
   "source": [
    "### Analisis de histogramas"
   ]
  },
  {
   "cell_type": "markdown",
   "metadata": {},
   "source": [
    "Se puede ver que los graficos estan desplazados uno frente al otro, el de motor encendido frente al grafico de movimiento. Si los tiempos con el motor encendido y en movimiento fueran similares, ambos graficos deberian aproximadamente coincidir, por lo que, en general, las ambulancias pasan mas tiempo con el motor encendido, que en movimiento. Por observación, las ambulancias pasan hasta 3 horas de mas con el motor encendido que en movimiento. "
   ]
  },
  {
   "cell_type": "markdown",
   "metadata": {},
   "source": [
    "### Graficos de Dispersión"
   ]
  },
  {
   "cell_type": "markdown",
   "metadata": {},
   "source": [
    "Se utiliza la funcion `scatter` para graficar la dispersion, de los datos de motor encendido vs. tiempo en movimiento. las funciones de `title`, `xlabel`, `ylabel` y `show` para colocar el titulo, nombre del eje x, eje y, y mostrar el grafico respectivamente\n",
    "\n",
    "El uso del codigo se obtuvo de: *(Kane, 2017)*"
   ]
  },
  {
   "cell_type": "code",
   "execution_count": 17,
   "metadata": {},
   "outputs": [
    {
     "data": {
      "image/png": "[encoded data removed]",
      "text/plain": [
       "<Figure size 640x480 with 1 Axes>"
      ]
     },
     "metadata": {},
     "output_type": "display_data"
    }
   ],
   "source": [
    "# imprimir grafico de dispersiones de tiempo encendio vs. tiempo en movimiento.\n",
    "plt.scatter(tiempos_movimiento, tiempos_motor_encendido, color=\"m\", marker=\".\")\n",
    "\n",
    "plt.title(\"Tiempos motor encendido vs. en movimiento\")\n",
    "\n",
    "plt.xlabel(\"tiempo en Movimiento [h]\")\n",
    "\n",
    "plt.ylabel(\"tiempo motor encendido [h]\")\n",
    "\n",
    "plt.show()"
   ]
  },
  {
   "cell_type": "markdown",
   "metadata": {},
   "source": [
    "### Analisis del grafico de dispersion:\n"
   ]
  },
  {
   "cell_type": "markdown",
   "metadata": {},
   "source": [
    "En el gráfico de tendencia no se presenta como una linea unica, como normalmente se presentan las relaciones funcionales, ya que se estan graficando todas las empresas y turnos por igual. Se puede observar, que conforme aumente al tiempo en movimiento, tambien aumenta el tiempo que duro \n",
    "el motor encedido continuamente. Esto tiene sentido, ya que a más tiempo en movimento, mas distancia recorrida, y mas demanda al motor.\n",
    "\n",
    "Se observan que las diferentes rectas que se forman son casi paralelas, por lo que se puede observar la relación entre el tiempo encendido y el tiempo en movimiento parece ser lineal. Esto muestra el tiempo desperdiciado con el motor encendido, sin movimiento, aumenta por cada hora, y no es nesariamente al azar. Esto puede mostrar malas practicas de los conductores, o que algun protocolo que se siga puede no ser adecuado para ahorrar tiempo en el motor."
   ]
  },
  {
   "cell_type": "markdown",
   "metadata": {},
   "source": [
    "# Referencias"
   ]
  },
  {
   "cell_type": "markdown",
   "metadata": {
    "id": "Oq6SWYx1FmmS"
   },
   "source": [
    "- Kane, F. (2017). Hands-On Data Science and Python Machine Learning. Packt\n",
    "Publishing. (pp. 183-195).\n",
    "- Roser, M., Appel, C., & Ritchie, H. (2024, January). Human Height. OurWorldInData. https://ourworldindata.org/human-height.\n",
    "- Thakur, A. (2016). Python: Real-World Data Science. Packt\n",
    "Publishing. (pp. 199 - 220).\n"
   ]
  }
 ],
 "metadata": {
  "colab": {
   "provenance": []
  },
  "kernelspec": {
   "display_name": "Python 3 (ipykernel)",
   "language": "python",
   "name": "python3"
  },
  "language_info": {
   "codemirror_mode": {
    "name": "ipython",
    "version": 3
   },
   "file_extension": ".py",
   "mimetype": "text/x-python",
   "name": "python",
   "nbconvert_exporter": "python",
   "pygments_lexer": "ipython3",
   "version": "3.11.9"
  }
 },
 "nbformat": 4,
 "nbformat_minor": 4
}
