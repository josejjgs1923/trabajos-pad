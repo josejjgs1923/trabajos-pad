{
 "cells": [
  {
   "cell_type": "markdown",
   "metadata": {
    "editable": true,
    "id": "xQq4Vi32-hdJ",
    "slideshow": {
     "slide_type": ""
    },
    "tags": []
   },
   "source": [
    "\n",
    "<img src=\"https://www.unad.edu.co/images/footer/logo-unad-acreditacion-min.png\" width=\"780\" height=\"140\" align=\"right\"/>"
   ]
  },
  {
   "cell_type": "markdown",
   "metadata": {
    "id": "Fn5lIj0dj7Ju"
   },
   "source": [
    "<p align=\"center\">Curso: Metodos Estadisticos</p>\n",
    "\n",
    "<p align=\"center\"> Código Curso: 203008067 </p>\n",
    "\n",
    "<p align=\"center\"> Grupo: 7 </p>\n",
    "\n",
    " <p align=\"center\">  Tarea 1: Análisis exploratorio e inferencial </p>\n",
    "\n",
    " <p align=\"center\">  Presentado por: Juan José García Sánchez </p>\n",
    "\n",
    "<p align=\"center\"> Código: 203008077</p>\n",
    "\n",
    " <p align=\"center\"> Tutor(a): Mireya García García </p>\n",
    "\n",
    " <p align=\"center\"> 06/10/2024 </p>\n",
    "\n",
    " <p align=\"center\"> UNIVERSIDAD NACIONAL ABIERTA Y A DISTANCIA - UNAD </p>\n",
    "\n"
   ]
  },
  {
   "cell_type": "markdown",
   "metadata": {},
   "source": [
    "# Objetivo General"
   ]
  },
  {
   "cell_type": "markdown",
   "metadata": {},
   "source": [
    "### Entender la distribución y relaciones entre las variables, mediante el análisis exploratorio de datos, para su inclusión en el modelo de precios dinamicos de la empresa."
   ]
  },
  {
   "cell_type": "markdown",
   "metadata": {},
   "source": [
    "# Objetivos Especificos"
   ]
  },
  {
   "cell_type": "markdown",
   "metadata": {},
   "source": [
    "### Resumir la distribución y caracteristicas del conjunto de datos, mediante el uso de tablas de frecuencia, estadisticos de tendencia central y de dispersion, para facilitar la interpretación, y usar como insumo en posteriores analisis."
   ]
  },
  {
   "cell_type": "markdown",
   "metadata": {},
   "source": [
    "### Identificar las posibles relaciones o correlaciones entre variables numericas, mediante analisis de dispersion y pruebas estadisticas, para establecer su posible relevancia en el costo del transporte."
   ]
  },
  {
   "cell_type": "markdown",
   "metadata": {},
   "source": [
    "### Demostrar la presencia (o ausencia) de relaciones significativas entre variables numericas y categoricas, Mediante las pruebas estadisticas chi-cuadrado y ANOVA, para validar el uso de las variables en el model de precios. "
   ]
  },
  {
   "cell_type": "markdown",
   "metadata": {},
   "source": [
    "# Importar librerias"
   ]
  },
  {
   "cell_type": "code",
   "execution_count": 39,
   "metadata": {
    "colab": {
     "base_uri": "https://localhost:8080/"
    },
    "id": "e55mgKkuW1y6",
    "outputId": "33c3965e-5804-41e7-8669-b676570e7ce3"
   },
   "outputs": [],
   "source": [
    "from enum import Enum\n",
    "import pandas as pd\n",
    "import numpy as np\n",
    "import matplotlib.pyplot as plt\n",
    "import seaborn as sns\n",
    "from scipy.stats import pearsonr, chisquare, f_oneway\n",
    "formato = \"{:.3f}\"\n",
    "pd.options.display.float_format = formato.format"
   ]
  },
  {
   "cell_type": "code",
   "execution_count": 2,
   "metadata": {},
   "outputs": [],
   "source": [
    "#las funciones definidas aqui se usaran mas adelantes en el ejercicio, son para calcular metricas y graficar\n",
    "\n",
    "def mostrar_metricas(y_real, y_predicho, decimales = 4):\n",
    "    \n",
    "    mse = metrics.mean_squared_error(y_real, y_predicho)\n",
    "    rmse = np.sqrt(mse)\n",
    "    r2 = metrics.r2_score(y_real, y_predicho)\n",
    "    mae =  metrics.mean_absolute_error(y_real, y_predicho)\n",
    "    print(\n",
    "    f\"R2  : {r2:.{decimales}f}\",\n",
    "    f\"MSE : {mse:.{decimales}f}\",\n",
    "    f\"RMSE: {rmse:.{decimales}f}\",\n",
    "    f\"MAE : {mae:.{decimales}f}\",\n",
    "    sep = \"\\n\",\n",
    "    )\n",
    "\n",
    "\n",
    "def matriz_confusion(y_real, y_predicho):\n",
    "    matriz = metrics.confusion_matrix(y_real, y_predicho)\n",
    "    heatmap(matriz, \"Matriz Confusion\", \"d\")\n",
    "    ax = plt.gca()\n",
    "    ax.set_xlabel(\"Valor Predicho\")\n",
    "    ax.set_ylabel(\"Valor Real\")\n",
    "\n",
    "\n",
    "def heatmap(matriz, titulo, formato=\".2f\", tamaño = (4, 4), mapa=\"Reds\"):\n",
    "    plt.figure(figsize=tamaño)\n",
    "    sns.heatmap(matriz, annot=True, cmap=mapa, fmt=formato)\n",
    "    plt.title(titulo)\n"
   ]
  },
  {
   "cell_type": "markdown",
   "metadata": {},
   "source": [
    "# Limpieza de datos"
   ]
  },
  {
   "cell_type": "markdown",
   "metadata": {},
   "source": [
    "Cargar datos a un dataframe, y eliminar los posibles datos nulos"
   ]
  },
  {
   "cell_type": "code",
   "execution_count": 3,
   "metadata": {
    "colab": {
     "base_uri": "https://localhost:8080/"
    },
    "id": "nYJMTGE8J3dV",
    "outputId": "718e85c7-23b6-4eb0-e3f2-2e3227d1572d"
   },
   "outputs": [],
   "source": [
    "# Carga los datos en un dataframe de Pandas\n",
    "\n",
    "#limpiado de datos, el archivo csv debe estar en el mismo directorio\n",
    "df_crudo = pd.read_csv('Anexo 1- Base de Datos dynamic_pricing.csv')\n",
    "\n",
    "df_crudo.drop_duplicates()\n",
    "\n",
    "#limpieza hecha para los tres modelos: modelo lineal, logistico, y knn. se elimina la columna \"wip\"\n",
    "df_modelos = df_crudo.dropna(axis=1)"
   ]
  },
  {
   "cell_type": "markdown",
   "metadata": {},
   "source": [
    "# 1. Analisis Unidimensional"
   ]
  },
  {
   "cell_type": "markdown",
   "metadata": {},
   "source": [
    "vista previa del conjunto de datos que se va a analizar"
   ]
  },
  {
   "cell_type": "code",
   "execution_count": 4,
   "metadata": {
    "scrolled": true
   },
   "outputs": [
    {
     "data": {
      "text/html": [
       "<div>\n",
       "<style scoped>\n",
       "    .dataframe tbody tr th:only-of-type {\n",
       "        vertical-align: middle;\n",
       "    }\n",
       "\n",
       "    .dataframe tbody tr th {\n",
       "        vertical-align: top;\n",
       "    }\n",
       "\n",
       "    .dataframe thead th {\n",
       "        text-align: right;\n",
       "    }\n",
       "</style>\n",
       "<table border=\"1\" class=\"dataframe\">\n",
       "  <thead>\n",
       "    <tr style=\"text-align: right;\">\n",
       "      <th></th>\n",
       "      <th>Number_of_Riders</th>\n",
       "      <th>Number_of_Drivers</th>\n",
       "      <th>Location_Category</th>\n",
       "      <th>Customer_Loyalty_Status</th>\n",
       "      <th>Number_of_Past_Rides</th>\n",
       "      <th>Average_Ratings</th>\n",
       "      <th>Time_of_Booking</th>\n",
       "      <th>Vehicle_Type</th>\n",
       "      <th>Expected_Ride_Duration</th>\n",
       "      <th>Historical_Cost_of_Ride</th>\n",
       "    </tr>\n",
       "  </thead>\n",
       "  <tbody>\n",
       "    <tr>\n",
       "      <th>0</th>\n",
       "      <td>90</td>\n",
       "      <td>45</td>\n",
       "      <td>Urban</td>\n",
       "      <td>Silver</td>\n",
       "      <td>13</td>\n",
       "      <td>4.47</td>\n",
       "      <td>Night</td>\n",
       "      <td>Premium</td>\n",
       "      <td>90</td>\n",
       "      <td>284.257273</td>\n",
       "    </tr>\n",
       "    <tr>\n",
       "      <th>1</th>\n",
       "      <td>58</td>\n",
       "      <td>39</td>\n",
       "      <td>Suburban</td>\n",
       "      <td>Silver</td>\n",
       "      <td>72</td>\n",
       "      <td>4.06</td>\n",
       "      <td>Evening</td>\n",
       "      <td>Economy</td>\n",
       "      <td>43</td>\n",
       "      <td>173.874753</td>\n",
       "    </tr>\n",
       "    <tr>\n",
       "      <th>2</th>\n",
       "      <td>42</td>\n",
       "      <td>31</td>\n",
       "      <td>Rural</td>\n",
       "      <td>Silver</td>\n",
       "      <td>0</td>\n",
       "      <td>3.99</td>\n",
       "      <td>Afternoon</td>\n",
       "      <td>Premium</td>\n",
       "      <td>76</td>\n",
       "      <td>329.795469</td>\n",
       "    </tr>\n",
       "    <tr>\n",
       "      <th>3</th>\n",
       "      <td>89</td>\n",
       "      <td>28</td>\n",
       "      <td>Rural</td>\n",
       "      <td>Regular</td>\n",
       "      <td>67</td>\n",
       "      <td>4.31</td>\n",
       "      <td>Afternoon</td>\n",
       "      <td>Premium</td>\n",
       "      <td>134</td>\n",
       "      <td>470.201232</td>\n",
       "    </tr>\n",
       "    <tr>\n",
       "      <th>4</th>\n",
       "      <td>78</td>\n",
       "      <td>22</td>\n",
       "      <td>Rural</td>\n",
       "      <td>Regular</td>\n",
       "      <td>74</td>\n",
       "      <td>3.77</td>\n",
       "      <td>Afternoon</td>\n",
       "      <td>Economy</td>\n",
       "      <td>149</td>\n",
       "      <td>579.681422</td>\n",
       "    </tr>\n",
       "    <tr>\n",
       "      <th>5</th>\n",
       "      <td>59</td>\n",
       "      <td>35</td>\n",
       "      <td>Urban</td>\n",
       "      <td>Silver</td>\n",
       "      <td>83</td>\n",
       "      <td>3.51</td>\n",
       "      <td>Night</td>\n",
       "      <td>Economy</td>\n",
       "      <td>128</td>\n",
       "      <td>339.955361</td>\n",
       "    </tr>\n",
       "    <tr>\n",
       "      <th>6</th>\n",
       "      <td>93</td>\n",
       "      <td>43</td>\n",
       "      <td>Suburban</td>\n",
       "      <td>Regular</td>\n",
       "      <td>44</td>\n",
       "      <td>4.41</td>\n",
       "      <td>Afternoon</td>\n",
       "      <td>Premium</td>\n",
       "      <td>16</td>\n",
       "      <td>104.061541</td>\n",
       "    </tr>\n",
       "    <tr>\n",
       "      <th>7</th>\n",
       "      <td>62</td>\n",
       "      <td>39</td>\n",
       "      <td>Rural</td>\n",
       "      <td>Gold</td>\n",
       "      <td>83</td>\n",
       "      <td>3.59</td>\n",
       "      <td>Afternoon</td>\n",
       "      <td>Premium</td>\n",
       "      <td>47</td>\n",
       "      <td>235.811864</td>\n",
       "    </tr>\n",
       "    <tr>\n",
       "      <th>8</th>\n",
       "      <td>79</td>\n",
       "      <td>14</td>\n",
       "      <td>Rural</td>\n",
       "      <td>Silver</td>\n",
       "      <td>71</td>\n",
       "      <td>3.74</td>\n",
       "      <td>Evening</td>\n",
       "      <td>Economy</td>\n",
       "      <td>128</td>\n",
       "      <td>501.412517</td>\n",
       "    </tr>\n",
       "    <tr>\n",
       "      <th>9</th>\n",
       "      <td>42</td>\n",
       "      <td>6</td>\n",
       "      <td>Rural</td>\n",
       "      <td>Silver</td>\n",
       "      <td>21</td>\n",
       "      <td>3.85</td>\n",
       "      <td>Night</td>\n",
       "      <td>Premium</td>\n",
       "      <td>128</td>\n",
       "      <td>398.993365</td>\n",
       "    </tr>\n",
       "    <tr>\n",
       "      <th>10</th>\n",
       "      <td>86</td>\n",
       "      <td>17</td>\n",
       "      <td>Urban</td>\n",
       "      <td>Regular</td>\n",
       "      <td>99</td>\n",
       "      <td>4.69</td>\n",
       "      <td>Morning</td>\n",
       "      <td>Economy</td>\n",
       "      <td>167</td>\n",
       "      <td>669.298626</td>\n",
       "    </tr>\n",
       "    <tr>\n",
       "      <th>11</th>\n",
       "      <td>60</td>\n",
       "      <td>38</td>\n",
       "      <td>Rural</td>\n",
       "      <td>Gold</td>\n",
       "      <td>15</td>\n",
       "      <td>4.14</td>\n",
       "      <td>Evening</td>\n",
       "      <td>Premium</td>\n",
       "      <td>144</td>\n",
       "      <td>414.990105</td>\n",
       "    </tr>\n",
       "    <tr>\n",
       "      <th>12</th>\n",
       "      <td>24</td>\n",
       "      <td>8</td>\n",
       "      <td>Rural</td>\n",
       "      <td>Gold</td>\n",
       "      <td>50</td>\n",
       "      <td>4.12</td>\n",
       "      <td>Morning</td>\n",
       "      <td>Economy</td>\n",
       "      <td>164</td>\n",
       "      <td>490.410722</td>\n",
       "    </tr>\n",
       "    <tr>\n",
       "      <th>13</th>\n",
       "      <td>36</td>\n",
       "      <td>24</td>\n",
       "      <td>Suburban</td>\n",
       "      <td>Silver</td>\n",
       "      <td>88</td>\n",
       "      <td>4.22</td>\n",
       "      <td>Night</td>\n",
       "      <td>Premium</td>\n",
       "      <td>83</td>\n",
       "      <td>296.242876</td>\n",
       "    </tr>\n",
       "    <tr>\n",
       "      <th>14</th>\n",
       "      <td>63</td>\n",
       "      <td>13</td>\n",
       "      <td>Rural</td>\n",
       "      <td>Regular</td>\n",
       "      <td>74</td>\n",
       "      <td>4.95</td>\n",
       "      <td>Afternoon</td>\n",
       "      <td>Premium</td>\n",
       "      <td>102</td>\n",
       "      <td>327.088865</td>\n",
       "    </tr>\n",
       "    <tr>\n",
       "      <th>15</th>\n",
       "      <td>39</td>\n",
       "      <td>12</td>\n",
       "      <td>Urban</td>\n",
       "      <td>Silver</td>\n",
       "      <td>30</td>\n",
       "      <td>4.51</td>\n",
       "      <td>Afternoon</td>\n",
       "      <td>Premium</td>\n",
       "      <td>140</td>\n",
       "      <td>445.136868</td>\n",
       "    </tr>\n",
       "    <tr>\n",
       "      <th>16</th>\n",
       "      <td>38</td>\n",
       "      <td>28</td>\n",
       "      <td>Rural</td>\n",
       "      <td>Silver</td>\n",
       "      <td>35</td>\n",
       "      <td>3.93</td>\n",
       "      <td>Afternoon</td>\n",
       "      <td>Premium</td>\n",
       "      <td>54</td>\n",
       "      <td>244.536172</td>\n",
       "    </tr>\n",
       "    <tr>\n",
       "      <th>17</th>\n",
       "      <td>46</td>\n",
       "      <td>14</td>\n",
       "      <td>Suburban</td>\n",
       "      <td>Silver</td>\n",
       "      <td>21</td>\n",
       "      <td>4.71</td>\n",
       "      <td>Afternoon</td>\n",
       "      <td>Economy</td>\n",
       "      <td>15</td>\n",
       "      <td>47.314309</td>\n",
       "    </tr>\n",
       "    <tr>\n",
       "      <th>18</th>\n",
       "      <td>33</td>\n",
       "      <td>7</td>\n",
       "      <td>Suburban</td>\n",
       "      <td>Gold</td>\n",
       "      <td>49</td>\n",
       "      <td>4.31</td>\n",
       "      <td>Evening</td>\n",
       "      <td>Premium</td>\n",
       "      <td>22</td>\n",
       "      <td>129.808263</td>\n",
       "    </tr>\n",
       "    <tr>\n",
       "      <th>19</th>\n",
       "      <td>31</td>\n",
       "      <td>7</td>\n",
       "      <td>Suburban</td>\n",
       "      <td>Silver</td>\n",
       "      <td>24</td>\n",
       "      <td>4.82</td>\n",
       "      <td>Evening</td>\n",
       "      <td>Premium</td>\n",
       "      <td>87</td>\n",
       "      <td>382.948110</td>\n",
       "    </tr>\n",
       "  </tbody>\n",
       "</table>\n",
       "</div>"
      ],
      "text/plain": [
       "    Number_of_Riders  Number_of_Drivers Location_Category  \\\n",
       "0                 90                 45             Urban   \n",
       "1                 58                 39          Suburban   \n",
       "2                 42                 31             Rural   \n",
       "3                 89                 28             Rural   \n",
       "4                 78                 22             Rural   \n",
       "5                 59                 35             Urban   \n",
       "6                 93                 43          Suburban   \n",
       "7                 62                 39             Rural   \n",
       "8                 79                 14             Rural   \n",
       "9                 42                  6             Rural   \n",
       "10                86                 17             Urban   \n",
       "11                60                 38             Rural   \n",
       "12                24                  8             Rural   \n",
       "13                36                 24          Suburban   \n",
       "14                63                 13             Rural   \n",
       "15                39                 12             Urban   \n",
       "16                38                 28             Rural   \n",
       "17                46                 14          Suburban   \n",
       "18                33                  7          Suburban   \n",
       "19                31                  7          Suburban   \n",
       "\n",
       "   Customer_Loyalty_Status  Number_of_Past_Rides  Average_Ratings  \\\n",
       "0                   Silver                    13             4.47   \n",
       "1                   Silver                    72             4.06   \n",
       "2                   Silver                     0             3.99   \n",
       "3                  Regular                    67             4.31   \n",
       "4                  Regular                    74             3.77   \n",
       "5                   Silver                    83             3.51   \n",
       "6                  Regular                    44             4.41   \n",
       "7                     Gold                    83             3.59   \n",
       "8                   Silver                    71             3.74   \n",
       "9                   Silver                    21             3.85   \n",
       "10                 Regular                    99             4.69   \n",
       "11                    Gold                    15             4.14   \n",
       "12                    Gold                    50             4.12   \n",
       "13                  Silver                    88             4.22   \n",
       "14                 Regular                    74             4.95   \n",
       "15                  Silver                    30             4.51   \n",
       "16                  Silver                    35             3.93   \n",
       "17                  Silver                    21             4.71   \n",
       "18                    Gold                    49             4.31   \n",
       "19                  Silver                    24             4.82   \n",
       "\n",
       "   Time_of_Booking Vehicle_Type  Expected_Ride_Duration  \\\n",
       "0            Night      Premium                      90   \n",
       "1          Evening      Economy                      43   \n",
       "2        Afternoon      Premium                      76   \n",
       "3        Afternoon      Premium                     134   \n",
       "4        Afternoon      Economy                     149   \n",
       "5            Night      Economy                     128   \n",
       "6        Afternoon      Premium                      16   \n",
       "7        Afternoon      Premium                      47   \n",
       "8          Evening      Economy                     128   \n",
       "9            Night      Premium                     128   \n",
       "10         Morning      Economy                     167   \n",
       "11         Evening      Premium                     144   \n",
       "12         Morning      Economy                     164   \n",
       "13           Night      Premium                      83   \n",
       "14       Afternoon      Premium                     102   \n",
       "15       Afternoon      Premium                     140   \n",
       "16       Afternoon      Premium                      54   \n",
       "17       Afternoon      Economy                      15   \n",
       "18         Evening      Premium                      22   \n",
       "19         Evening      Premium                      87   \n",
       "\n",
       "    Historical_Cost_of_Ride  \n",
       "0                284.257273  \n",
       "1                173.874753  \n",
       "2                329.795469  \n",
       "3                470.201232  \n",
       "4                579.681422  \n",
       "5                339.955361  \n",
       "6                104.061541  \n",
       "7                235.811864  \n",
       "8                501.412517  \n",
       "9                398.993365  \n",
       "10               669.298626  \n",
       "11               414.990105  \n",
       "12               490.410722  \n",
       "13               296.242876  \n",
       "14               327.088865  \n",
       "15               445.136868  \n",
       "16               244.536172  \n",
       "17                47.314309  \n",
       "18               129.808263  \n",
       "19               382.948110  "
      ]
     },
     "execution_count": 4,
     "metadata": {},
     "output_type": "execute_result"
    }
   ],
   "source": [
    "df_modelos.head(20)"
   ]
  },
  {
   "cell_type": "markdown",
   "metadata": {},
   "source": [
    "## 1. Clasificacion de variables en estudio:"
   ]
  },
  {
   "cell_type": "markdown",
   "metadata": {},
   "source": [
    "|Variables | Descripción | Clasificación| Niveles |\n",
    "|---|---|---|---|\n",
    "| Número de Pasajeros | Cantidad de pasajeros solicitando viajes en el área | numérica | - |\n",
    "| Número de Conductores | Cantidad de Conductores disponibles en el área | numerica | - |\n",
    "| Área | Tipo de zona donde se solicita el viaje | nominal | Urban, Rural y Suburban |\n",
    "| Lealtad Cliente | Nivel de clasificación del cliente por lealtad a la empresa | ordinal | Regular, Silver, Gold |\n",
    "| Cantidad Viajes Pasados | Cantidad de viajes que el cliente ha hecho en el servicio | numérica | - |\n",
    "| Puntaje Promedio | Puntaje Promedio de los viajes | numerica | - |\n",
    "| Hora de agendar | Tiempo del día en el cual se agendo el viaje | nominal | Night, Afternoon, Morning, Evening |\n",
    "| Tipo de Vehiculo | Clase de Vehículo, respecto a comodidad y tecnologia, pedidos en el pasado | nominal | Premium, Economy |\n",
    "| Duración Esperada Viaje | Duración esperada del viaje en horas | numérica | - |\n",
    "| Costo Histórico Viaje | Costo histórico (promedio) del viaje | numérica | - |\n"
   ]
  },
  {
   "cell_type": "code",
   "execution_count": 4,
   "metadata": {},
   "outputs": [],
   "source": [
    "def tabla_frecuencia(datos: pd.DataFrame, campo:str):\n",
    "    \"\"\"\n",
    "    Construye una un dataframe, calculando las frecuencias \n",
    "    absolutas y relativas del campo dado.\n",
    "    \"\"\"\n",
    "    frec = pd.crosstab(datos[campo], \"frecuencia\")\n",
    "\n",
    "    relativa = frec / datos.shape[0]\n",
    "\n",
    "    frec[\"relativa\"] = relativa\n",
    "\n",
    "    frec.loc[\"suma\"] = [datos.shape[0], relativa[\"frecuencia\"].sum()]\n",
    "\n",
    "    return frec\n",
    "\n",
    "def medidas_resumen(datos:pd.DataFrame, campo:str):\n",
    "\n",
    "    res = datos[campo].describe()\n",
    "\n",
    "    res[\"var\"] = datos[campo].var()\n",
    "\n",
    "    res = pd.DataFrame(res)\n",
    "\n",
    "    return res\n"
   ]
  },
  {
   "cell_type": "markdown",
   "metadata": {},
   "source": [
    "Enumeraciones de la variables. Unicamente por facilidad de uso para referirse a las variables posteriormente, no influye en el analisis de datos."
   ]
  },
  {
   "cell_type": "code",
   "execution_count": 5,
   "metadata": {},
   "outputs": [],
   "source": [
    "class Categ(Enum):\n",
    "    locacion = \"Location_Category\"\n",
    "    lealtad = \"Customer_Loyalty_Status\"\n",
    "    tiempo_viaje = \"Time_of_Booking\"\n",
    "    vehiculo = \"Vehicle_Type\"\n",
    "\n",
    "\n",
    "class Num(Enum):\n",
    "    viajes_pasados = \"Number_of_Past_Rides\"\n",
    "    puntaje_promedio = \"Average_Ratings\"\n",
    "    pasajeros = \"Number_of_Riders\" \t\n",
    "    conductores = \"Number_of_Drivers\"\n",
    "    duracion_esperada = \"Expected_Ride_Duration\"\n",
    "    costo_historico = \"Historical_Cost_of_Ride\""
   ]
  },
  {
   "cell_type": "markdown",
   "metadata": {},
   "source": [
    "## 2. Analisis de Tendencia central, Variablidad"
   ]
  },
  {
   "cell_type": "markdown",
   "metadata": {},
   "source": [
    "### Categoricas"
   ]
  },
  {
   "cell_type": "markdown",
   "metadata": {},
   "source": [
    "#### **Locación del viaje**"
   ]
  },
  {
   "cell_type": "markdown",
   "metadata": {},
   "source": [
    "##### Frecuencias"
   ]
  },
  {
   "cell_type": "code",
   "execution_count": 13,
   "metadata": {},
   "outputs": [
    {
     "data": {
      "text/html": [
       "<div>\n",
       "<style scoped>\n",
       "    .dataframe tbody tr th:only-of-type {\n",
       "        vertical-align: middle;\n",
       "    }\n",
       "\n",
       "    .dataframe tbody tr th {\n",
       "        vertical-align: top;\n",
       "    }\n",
       "\n",
       "    .dataframe thead th {\n",
       "        text-align: right;\n",
       "    }\n",
       "</style>\n",
       "<table border=\"1\" class=\"dataframe\">\n",
       "  <thead>\n",
       "    <tr style=\"text-align: right;\">\n",
       "      <th>col_0</th>\n",
       "      <th>frecuencia</th>\n",
       "      <th>relativa</th>\n",
       "    </tr>\n",
       "    <tr>\n",
       "      <th>Location_Category</th>\n",
       "      <th></th>\n",
       "      <th></th>\n",
       "    </tr>\n",
       "  </thead>\n",
       "  <tbody>\n",
       "    <tr>\n",
       "      <th>Rural</th>\n",
       "      <td>332.000</td>\n",
       "      <td>0.332</td>\n",
       "    </tr>\n",
       "    <tr>\n",
       "      <th>Suburban</th>\n",
       "      <td>322.000</td>\n",
       "      <td>0.322</td>\n",
       "    </tr>\n",
       "    <tr>\n",
       "      <th>Urban</th>\n",
       "      <td>346.000</td>\n",
       "      <td>0.346</td>\n",
       "    </tr>\n",
       "    <tr>\n",
       "      <th>suma</th>\n",
       "      <td>1000.000</td>\n",
       "      <td>1.000</td>\n",
       "    </tr>\n",
       "  </tbody>\n",
       "</table>\n",
       "</div>"
      ],
      "text/plain": [
       "col_0              frecuencia  relativa\n",
       "Location_Category                      \n",
       "Rural                 332.000     0.332\n",
       "Suburban              322.000     0.322\n",
       "Urban                 346.000     0.346\n",
       "suma                 1000.000     1.000"
      ]
     },
     "execution_count": 13,
     "metadata": {},
     "output_type": "execute_result"
    }
   ],
   "source": [
    "tabla_frecuencia(df_modelos, Categ.locacion.value)"
   ]
  },
  {
   "cell_type": "markdown",
   "metadata": {},
   "source": [
    "##### Visualización"
   ]
  },
  {
   "cell_type": "code",
   "execution_count": 7,
   "metadata": {},
   "outputs": [
    {
     "data": {
      "image/png": "[encoded data removed]",
      "text/plain": [
       "<Figure size 400x400 with 1 Axes>"
      ]
     },
     "metadata": {},
     "output_type": "display_data"
    }
   ],
   "source": [
    "sns.countplot(data=df_modelos, x=Categ.locacion.value, orient=\"h\", color=\"b\", figure=plt.figure(figsize=(4,4)) )\n",
    "plt.show()"
   ]
  },
  {
   "cell_type": "markdown",
   "metadata": {},
   "source": [
    "##### Analisis"
   ]
  },
  {
   "cell_type": "markdown",
   "metadata": {},
   "source": [
    "Observando la gráfica y la tabla de frecuencias se puede ver que la moda de los datos, respecto a la locación del solicitud del viaje, es la zona urbana con 346 viajes. Sin embargo, las proporciones entre las tres categorias son muy similares entre si, y todas cercanas al valor del tercio (33%) que sugeriría la probabilidad. Esta similaridad muestra que la mayoria de la categoria urbana no es significativa. "
   ]
  },
  {
   "cell_type": "markdown",
   "metadata": {},
   "source": [
    "#### **Lealtad del Cliente**"
   ]
  },
  {
   "cell_type": "markdown",
   "metadata": {},
   "source": [
    "##### Frecuencias"
   ]
  },
  {
   "cell_type": "code",
   "execution_count": 13,
   "metadata": {},
   "outputs": [
    {
     "data": {
      "text/html": [
       "<div>\n",
       "<style scoped>\n",
       "    .dataframe tbody tr th:only-of-type {\n",
       "        vertical-align: middle;\n",
       "    }\n",
       "\n",
       "    .dataframe tbody tr th {\n",
       "        vertical-align: top;\n",
       "    }\n",
       "\n",
       "    .dataframe thead th {\n",
       "        text-align: right;\n",
       "    }\n",
       "</style>\n",
       "<table border=\"1\" class=\"dataframe\">\n",
       "  <thead>\n",
       "    <tr style=\"text-align: right;\">\n",
       "      <th>col_0</th>\n",
       "      <th>frecuencia</th>\n",
       "      <th>relativa</th>\n",
       "    </tr>\n",
       "    <tr>\n",
       "      <th>Customer_Loyalty_Status</th>\n",
       "      <th></th>\n",
       "      <th></th>\n",
       "    </tr>\n",
       "  </thead>\n",
       "  <tbody>\n",
       "    <tr>\n",
       "      <th>Gold</th>\n",
       "      <td>313.0</td>\n",
       "      <td>0.313</td>\n",
       "    </tr>\n",
       "    <tr>\n",
       "      <th>Regular</th>\n",
       "      <td>320.0</td>\n",
       "      <td>0.320</td>\n",
       "    </tr>\n",
       "    <tr>\n",
       "      <th>Silver</th>\n",
       "      <td>367.0</td>\n",
       "      <td>0.367</td>\n",
       "    </tr>\n",
       "    <tr>\n",
       "      <th>suma</th>\n",
       "      <td>1000.0</td>\n",
       "      <td>1.000</td>\n",
       "    </tr>\n",
       "  </tbody>\n",
       "</table>\n",
       "</div>"
      ],
      "text/plain": [
       "col_0                    frecuencia  relativa\n",
       "Customer_Loyalty_Status                      \n",
       "Gold                          313.0     0.313\n",
       "Regular                       320.0     0.320\n",
       "Silver                        367.0     0.367\n",
       "suma                         1000.0     1.000"
      ]
     },
     "execution_count": 13,
     "metadata": {},
     "output_type": "execute_result"
    }
   ],
   "source": [
    "tabla_frecuencia(df_modelos, Categ.lealtad.value)"
   ]
  },
  {
   "cell_type": "markdown",
   "metadata": {},
   "source": [
    "##### Visualización"
   ]
  },
  {
   "cell_type": "code",
   "execution_count": 15,
   "metadata": {},
   "outputs": [
    {
     "data": {
      "image/png": "[encoded data removed]",
      "text/plain": [
       "<Figure size 400x400 with 1 Axes>"
      ]
     },
     "metadata": {},
     "output_type": "display_data"
    }
   ],
   "source": [
    "sns.countplot(data=df_modelos, x=Categ.lealtad.value, orient=\"h\", color=\"r\", figure=plt.figure(figsize=(4,4)) )\n",
    "plt.show()"
   ]
  },
  {
   "cell_type": "markdown",
   "metadata": {},
   "source": [
    "##### Analisis"
   ]
  },
  {
   "cell_type": "markdown",
   "metadata": {},
   "source": [
    "Se puede hacer un analisis similar con la categoria de lealtad del cliente: La moda de los datos es la categoria de plata (\"silver\"), con 367 viajes de los viajes registrados en el dataset, distanciandose un 4% de la categoria oro (\"Gold\"), y 5% de la regular. Las proporciones tambien son similares, y se acercan al 33%. Estas proporciones sugieren que la mayoria de la categoria plata no es significativa, y es debida al azar."
   ]
  },
  {
   "cell_type": "markdown",
   "metadata": {},
   "source": [
    "#### **Tiempo del dia de la Solucitud**"
   ]
  },
  {
   "cell_type": "markdown",
   "metadata": {},
   "source": [
    "##### Frecuencias"
   ]
  },
  {
   "cell_type": "code",
   "execution_count": 14,
   "metadata": {},
   "outputs": [
    {
     "data": {
      "text/html": [
       "<div>\n",
       "<style scoped>\n",
       "    .dataframe tbody tr th:only-of-type {\n",
       "        vertical-align: middle;\n",
       "    }\n",
       "\n",
       "    .dataframe tbody tr th {\n",
       "        vertical-align: top;\n",
       "    }\n",
       "\n",
       "    .dataframe thead th {\n",
       "        text-align: right;\n",
       "    }\n",
       "</style>\n",
       "<table border=\"1\" class=\"dataframe\">\n",
       "  <thead>\n",
       "    <tr style=\"text-align: right;\">\n",
       "      <th>col_0</th>\n",
       "      <th>frecuencia</th>\n",
       "      <th>relativa</th>\n",
       "    </tr>\n",
       "    <tr>\n",
       "      <th>Time_of_Booking</th>\n",
       "      <th></th>\n",
       "      <th></th>\n",
       "    </tr>\n",
       "  </thead>\n",
       "  <tbody>\n",
       "    <tr>\n",
       "      <th>Afternoon</th>\n",
       "      <td>247.000</td>\n",
       "      <td>0.247</td>\n",
       "    </tr>\n",
       "    <tr>\n",
       "      <th>Evening</th>\n",
       "      <td>231.000</td>\n",
       "      <td>0.231</td>\n",
       "    </tr>\n",
       "    <tr>\n",
       "      <th>Morning</th>\n",
       "      <td>246.000</td>\n",
       "      <td>0.246</td>\n",
       "    </tr>\n",
       "    <tr>\n",
       "      <th>Night</th>\n",
       "      <td>276.000</td>\n",
       "      <td>0.276</td>\n",
       "    </tr>\n",
       "    <tr>\n",
       "      <th>suma</th>\n",
       "      <td>1000.000</td>\n",
       "      <td>1.000</td>\n",
       "    </tr>\n",
       "  </tbody>\n",
       "</table>\n",
       "</div>"
      ],
      "text/plain": [
       "col_0            frecuencia  relativa\n",
       "Time_of_Booking                      \n",
       "Afternoon           247.000     0.247\n",
       "Evening             231.000     0.231\n",
       "Morning             246.000     0.246\n",
       "Night               276.000     0.276\n",
       "suma               1000.000     1.000"
      ]
     },
     "execution_count": 14,
     "metadata": {},
     "output_type": "execute_result"
    }
   ],
   "source": [
    "tabla_frecuencia(df_modelos, Categ.tiempo_viaje.value)"
   ]
  },
  {
   "cell_type": "markdown",
   "metadata": {},
   "source": [
    "##### Visualización"
   ]
  },
  {
   "cell_type": "code",
   "execution_count": 321,
   "metadata": {},
   "outputs": [
    {
     "data": {
      "image/png": "[encoded data removed]",
      "text/plain": [
       "<Figure size 400x400 with 1 Axes>"
      ]
     },
     "metadata": {},
     "output_type": "display_data"
    }
   ],
   "source": [
    "sns.countplot(data=df_modelos, x=Categ.tiempo_viaje.value, orient=\"h\", color=\"m\", figure=plt.figure(figsize=(4,4))) \n",
    "plt.show()"
   ]
  },
  {
   "cell_type": "markdown",
   "metadata": {},
   "source": [
    "##### Analisis"
   ]
  },
  {
   "cell_type": "markdown",
   "metadata": {},
   "source": [
    "La tabla de frecuencia, y el grafico de barras muestran que en las horas de la noche se piden la mayor cantidad de viajes para los datos dados, un 27% de las veces. La menor cantidad de viajes se piden en al anochecer con un 23%, y una cantidad similar en las horas de la tarde y la mañana. Sin embargo, todos estos porcentajes estan muy cercanos a los esperados por unicamente el azar (25%), sugiriendo que las diferencias no son signicativas tampoco en la hora de solicitud."
   ]
  },
  {
   "cell_type": "markdown",
   "metadata": {},
   "source": [
    "#### **Tipo de Vehiculo**"
   ]
  },
  {
   "cell_type": "markdown",
   "metadata": {},
   "source": [
    "##### Frecuencias"
   ]
  },
  {
   "cell_type": "code",
   "execution_count": 106,
   "metadata": {
    "scrolled": true
   },
   "outputs": [
    {
     "data": {
      "text/html": [
       "<div>\n",
       "<style scoped>\n",
       "    .dataframe tbody tr th:only-of-type {\n",
       "        vertical-align: middle;\n",
       "    }\n",
       "\n",
       "    .dataframe tbody tr th {\n",
       "        vertical-align: top;\n",
       "    }\n",
       "\n",
       "    .dataframe thead th {\n",
       "        text-align: right;\n",
       "    }\n",
       "</style>\n",
       "<table border=\"1\" class=\"dataframe\">\n",
       "  <thead>\n",
       "    <tr style=\"text-align: right;\">\n",
       "      <th>col_0</th>\n",
       "      <th>frecuencia</th>\n",
       "      <th>relativa</th>\n",
       "    </tr>\n",
       "    <tr>\n",
       "      <th>Vehicle_Type</th>\n",
       "      <th></th>\n",
       "      <th></th>\n",
       "    </tr>\n",
       "  </thead>\n",
       "  <tbody>\n",
       "    <tr>\n",
       "      <th>Economy</th>\n",
       "      <td>478.0</td>\n",
       "      <td>0.478</td>\n",
       "    </tr>\n",
       "    <tr>\n",
       "      <th>Premium</th>\n",
       "      <td>522.0</td>\n",
       "      <td>0.522</td>\n",
       "    </tr>\n",
       "    <tr>\n",
       "      <th>suma</th>\n",
       "      <td>1000.0</td>\n",
       "      <td>1.000</td>\n",
       "    </tr>\n",
       "  </tbody>\n",
       "</table>\n",
       "</div>"
      ],
      "text/plain": [
       "col_0         frecuencia  relativa\n",
       "Vehicle_Type                      \n",
       "Economy            478.0     0.478\n",
       "Premium            522.0     0.522\n",
       "suma              1000.0     1.000"
      ]
     },
     "execution_count": 106,
     "metadata": {},
     "output_type": "execute_result"
    }
   ],
   "source": [
    "tabla_frecuencia(df_modelos, Categ.vehiculo.value)"
   ]
  },
  {
   "cell_type": "markdown",
   "metadata": {},
   "source": [
    "##### Visualización"
   ]
  },
  {
   "cell_type": "code",
   "execution_count": 320,
   "metadata": {},
   "outputs": [
    {
     "data": {
      "image/png": "[encoded data removed]",
      "text/plain": [
       "<Figure size 400x400 with 1 Axes>"
      ]
     },
     "metadata": {},
     "output_type": "display_data"
    }
   ],
   "source": [
    "sns.countplot(data=df_modelos, x=Categ.vehiculo.value, orient=\"h\", color=\"g\", figure=plt.figure(figsize=(4,4)) )\n",
    "plt.show()"
   ]
  },
  {
   "cell_type": "markdown",
   "metadata": {},
   "source": [
    "##### Analisis"
   ]
  },
  {
   "cell_type": "markdown",
   "metadata": {},
   "source": [
    "Para el tipo de vehiculo, la mayoria de los vehiculos pedidos son de tipos premium: 572 vehiculos representando el 52.2%, contra el 47.5% de los la categoria de economia. Ambas categorias tienen porcentajes muy similares de solicitud, y cercanos a los que se podrian esperar por simple azar (50%). estas observaciones parecen indicar que el servicio premium de transporte es ligeramente mejor que el servicio economico."
   ]
  },
  {
   "cell_type": "markdown",
   "metadata": {},
   "source": [
    "### Numericas:"
   ]
  },
  {
   "cell_type": "markdown",
   "metadata": {},
   "source": [
    "#### **Cantidad de Viajeros**"
   ]
  },
  {
   "cell_type": "markdown",
   "metadata": {},
   "source": [
    "##### Medidas de Resumen"
   ]
  },
  {
   "cell_type": "code",
   "execution_count": 8,
   "metadata": {
    "scrolled": true
   },
   "outputs": [
    {
     "data": {
      "text/html": [
       "<div>\n",
       "<style scoped>\n",
       "    .dataframe tbody tr th:only-of-type {\n",
       "        vertical-align: middle;\n",
       "    }\n",
       "\n",
       "    .dataframe tbody tr th {\n",
       "        vertical-align: top;\n",
       "    }\n",
       "\n",
       "    .dataframe thead th {\n",
       "        text-align: right;\n",
       "    }\n",
       "</style>\n",
       "<table border=\"1\" class=\"dataframe\">\n",
       "  <thead>\n",
       "    <tr style=\"text-align: right;\">\n",
       "      <th></th>\n",
       "      <th>Number_of_Riders</th>\n",
       "    </tr>\n",
       "  </thead>\n",
       "  <tbody>\n",
       "    <tr>\n",
       "      <th>count</th>\n",
       "      <td>1000.000000</td>\n",
       "    </tr>\n",
       "    <tr>\n",
       "      <th>mean</th>\n",
       "      <td>60.372000</td>\n",
       "    </tr>\n",
       "    <tr>\n",
       "      <th>std</th>\n",
       "      <td>23.701506</td>\n",
       "    </tr>\n",
       "    <tr>\n",
       "      <th>min</th>\n",
       "      <td>20.000000</td>\n",
       "    </tr>\n",
       "    <tr>\n",
       "      <th>25%</th>\n",
       "      <td>40.000000</td>\n",
       "    </tr>\n",
       "    <tr>\n",
       "      <th>50%</th>\n",
       "      <td>60.000000</td>\n",
       "    </tr>\n",
       "    <tr>\n",
       "      <th>75%</th>\n",
       "      <td>81.000000</td>\n",
       "    </tr>\n",
       "    <tr>\n",
       "      <th>max</th>\n",
       "      <td>100.000000</td>\n",
       "    </tr>\n",
       "    <tr>\n",
       "      <th>var</th>\n",
       "      <td>561.761377</td>\n",
       "    </tr>\n",
       "  </tbody>\n",
       "</table>\n",
       "</div>"
      ],
      "text/plain": [
       "       Number_of_Riders\n",
       "count       1000.000000\n",
       "mean          60.372000\n",
       "std           23.701506\n",
       "min           20.000000\n",
       "25%           40.000000\n",
       "50%           60.000000\n",
       "75%           81.000000\n",
       "max          100.000000\n",
       "var          561.761377"
      ]
     },
     "execution_count": 8,
     "metadata": {},
     "output_type": "execute_result"
    }
   ],
   "source": [
    "medidas_resumen(df_modelos, Num.pasajeros.value)"
   ]
  },
  {
   "cell_type": "markdown",
   "metadata": {},
   "source": [
    "##### Visualización"
   ]
  },
  {
   "cell_type": "code",
   "execution_count": 322,
   "metadata": {},
   "outputs": [
    {
     "data": {
      "image/png": "[encoded data removed]",
      "text/plain": [
       "<Figure size 640x480 with 1 Axes>"
      ]
     },
     "metadata": {},
     "output_type": "display_data"
    }
   ],
   "source": [
    "sns.boxplot(df_modelos[Num.pasajeros.value], orient=\"h\", color=\"g\")\n",
    "plt.show()"
   ]
  },
  {
   "cell_type": "markdown",
   "metadata": {},
   "source": [
    "##### Analisis:"
   ]
  },
  {
   "cell_type": "markdown",
   "metadata": {},
   "source": [
    "El gráfico de cajas y bigotes muestra la distribución de pasajeros solicitantes en el momento de la solicitud del viaje. Los datos estan distribuidos de forma simetrica en alrededor de la media, que es de $60$ pasajeros. los limites de la caja muestran que en el $50\\%$ de los casos los pasajeros estan en cantidad entre $40$ y $80$. el minimo de pasajeros es $20$, y el maximo es $100$.\n",
    "\n",
    "El promedio es de $60.37$, muy cercano a la mediana, la desviación estandard es de $23.70$ pasajeros, que es muy cercano a la separacion entre cuartiles de $20$. Estas observaciones muestran que los datos no tienen sesgo hacia ninguna dirección, tienen una desviacion baja, y que estan bien distribuidos."
   ]
  },
  {
   "cell_type": "markdown",
   "metadata": {},
   "source": [
    "#### **Calificacion del Viaje**"
   ]
  },
  {
   "cell_type": "markdown",
   "metadata": {},
   "source": [
    "##### Medidas de Resumen"
   ]
  },
  {
   "cell_type": "code",
   "execution_count": 15,
   "metadata": {},
   "outputs": [
    {
     "data": {
      "text/html": [
       "<div>\n",
       "<style scoped>\n",
       "    .dataframe tbody tr th:only-of-type {\n",
       "        vertical-align: middle;\n",
       "    }\n",
       "\n",
       "    .dataframe tbody tr th {\n",
       "        vertical-align: top;\n",
       "    }\n",
       "\n",
       "    .dataframe thead th {\n",
       "        text-align: right;\n",
       "    }\n",
       "</style>\n",
       "<table border=\"1\" class=\"dataframe\">\n",
       "  <thead>\n",
       "    <tr style=\"text-align: right;\">\n",
       "      <th></th>\n",
       "      <th>Average_Ratings</th>\n",
       "    </tr>\n",
       "  </thead>\n",
       "  <tbody>\n",
       "    <tr>\n",
       "      <th>count</th>\n",
       "      <td>1000.000</td>\n",
       "    </tr>\n",
       "    <tr>\n",
       "      <th>mean</th>\n",
       "      <td>4.257</td>\n",
       "    </tr>\n",
       "    <tr>\n",
       "      <th>std</th>\n",
       "      <td>0.436</td>\n",
       "    </tr>\n",
       "    <tr>\n",
       "      <th>min</th>\n",
       "      <td>3.500</td>\n",
       "    </tr>\n",
       "    <tr>\n",
       "      <th>25%</th>\n",
       "      <td>3.870</td>\n",
       "    </tr>\n",
       "    <tr>\n",
       "      <th>50%</th>\n",
       "      <td>4.270</td>\n",
       "    </tr>\n",
       "    <tr>\n",
       "      <th>75%</th>\n",
       "      <td>4.633</td>\n",
       "    </tr>\n",
       "    <tr>\n",
       "      <th>max</th>\n",
       "      <td>5.000</td>\n",
       "    </tr>\n",
       "    <tr>\n",
       "      <th>var</th>\n",
       "      <td>0.190</td>\n",
       "    </tr>\n",
       "  </tbody>\n",
       "</table>\n",
       "</div>"
      ],
      "text/plain": [
       "       Average_Ratings\n",
       "count         1000.000\n",
       "mean             4.257\n",
       "std              0.436\n",
       "min              3.500\n",
       "25%              3.870\n",
       "50%              4.270\n",
       "75%              4.633\n",
       "max              5.000\n",
       "var              0.190"
      ]
     },
     "execution_count": 15,
     "metadata": {},
     "output_type": "execute_result"
    }
   ],
   "source": [
    "medidas_resumen(df_modelos, Num.puntaje_promedio.value)"
   ]
  },
  {
   "cell_type": "markdown",
   "metadata": {},
   "source": [
    "##### Visualización"
   ]
  },
  {
   "cell_type": "code",
   "execution_count": 328,
   "metadata": {},
   "outputs": [
    {
     "data": {
      "image/png": "[encoded data removed]",
      "text/plain": [
       "<Figure size 640x480 with 1 Axes>"
      ]
     },
     "metadata": {},
     "output_type": "display_data"
    }
   ],
   "source": [
    "sns.boxplot(df_modelos[Num.puntaje_promedio.value], orient=\"h\", color=\"orange\")\n",
    "plt.show()"
   ]
  },
  {
   "cell_type": "markdown",
   "metadata": {},
   "source": [
    "##### Analisis"
   ]
  },
  {
   "cell_type": "markdown",
   "metadata": {},
   "source": [
    "El gráfico de caja muestra una forma simetrica, con ambos bordes de la caja siendo las calificaciones de $3.67$ y $4.63$. La minima calificación es de $3.5$, la maxima del $5.0$. Esto muestra ninguno de los usuarios piensa que el servicio es malo ($<3.5$), un $25\\%$ piensa que el sevicio es mediocre ($< 3.67$), un $50\\%$ de los usuarios piensan que es desde mediocre hasta bueno ( > $3.6$ y $< 4.7$), y un $25\\%$ piensan que es muy bueno ($> 4.7$ ). \n",
    "\n",
    "el promedio de $4.26$ y la mediana de $4.27$ son muy similares entre si. La desviación estandar es de $0.43$ en puntaje. Estas observaciones muestran que el conjunto completo esta sesgado hacia puntajes altos por ser el minimo $3.5$, pero entre ese limite y el maximo de $5$ es uniforme la distribución. "
   ]
  },
  {
   "cell_type": "markdown",
   "metadata": {},
   "source": [
    "#### **Duracion Esperada del Viaje**"
   ]
  },
  {
   "cell_type": "markdown",
   "metadata": {},
   "source": [
    "##### Medidas de Resumen"
   ]
  },
  {
   "cell_type": "code",
   "execution_count": 139,
   "metadata": {
    "scrolled": true
   },
   "outputs": [
    {
     "data": {
      "text/html": [
       "<div>\n",
       "<style scoped>\n",
       "    .dataframe tbody tr th:only-of-type {\n",
       "        vertical-align: middle;\n",
       "    }\n",
       "\n",
       "    .dataframe tbody tr th {\n",
       "        vertical-align: top;\n",
       "    }\n",
       "\n",
       "    .dataframe thead th {\n",
       "        text-align: right;\n",
       "    }\n",
       "</style>\n",
       "<table border=\"1\" class=\"dataframe\">\n",
       "  <thead>\n",
       "    <tr style=\"text-align: right;\">\n",
       "      <th></th>\n",
       "      <th>Expected_Ride_Duration</th>\n",
       "    </tr>\n",
       "  </thead>\n",
       "  <tbody>\n",
       "    <tr>\n",
       "      <th>count</th>\n",
       "      <td>1000.000000</td>\n",
       "    </tr>\n",
       "    <tr>\n",
       "      <th>mean</th>\n",
       "      <td>99.588000</td>\n",
       "    </tr>\n",
       "    <tr>\n",
       "      <th>std</th>\n",
       "      <td>49.165450</td>\n",
       "    </tr>\n",
       "    <tr>\n",
       "      <th>min</th>\n",
       "      <td>10.000000</td>\n",
       "    </tr>\n",
       "    <tr>\n",
       "      <th>25%</th>\n",
       "      <td>59.750000</td>\n",
       "    </tr>\n",
       "    <tr>\n",
       "      <th>50%</th>\n",
       "      <td>102.000000</td>\n",
       "    </tr>\n",
       "    <tr>\n",
       "      <th>75%</th>\n",
       "      <td>143.000000</td>\n",
       "    </tr>\n",
       "    <tr>\n",
       "      <th>max</th>\n",
       "      <td>180.000000</td>\n",
       "    </tr>\n",
       "    <tr>\n",
       "      <th>var</th>\n",
       "      <td>2417.241497</td>\n",
       "    </tr>\n",
       "  </tbody>\n",
       "</table>\n",
       "</div>"
      ],
      "text/plain": [
       "       Expected_Ride_Duration\n",
       "count             1000.000000\n",
       "mean                99.588000\n",
       "std                 49.165450\n",
       "min                 10.000000\n",
       "25%                 59.750000\n",
       "50%                102.000000\n",
       "75%                143.000000\n",
       "max                180.000000\n",
       "var               2417.241497"
      ]
     },
     "execution_count": 139,
     "metadata": {},
     "output_type": "execute_result"
    }
   ],
   "source": [
    "medidas_resumen(df_modelos, Num.duracion_esperada.value)"
   ]
  },
  {
   "cell_type": "markdown",
   "metadata": {},
   "source": [
    "##### Visualización"
   ]
  },
  {
   "cell_type": "code",
   "execution_count": 324,
   "metadata": {},
   "outputs": [
    {
     "data": {
      "image/png": "[encoded data removed]",
      "text/plain": [
       "<Figure size 640x480 with 1 Axes>"
      ]
     },
     "metadata": {},
     "output_type": "display_data"
    }
   ],
   "source": [
    "sns.boxplot(df_modelos[Num.duracion_esperada.value], orient=\"h\", color=\"c\")\n",
    "plt.show()"
   ]
  },
  {
   "cell_type": "markdown",
   "metadata": {},
   "source": [
    "##### Analisis:"
   ]
  },
  {
   "cell_type": "markdown",
   "metadata": {},
   "source": [
    "Se asume que la duracion esperada de los viajes esta en minutos, ya que no hay información de unidades en el dataset.\n",
    "La mediana de la duración esperada del viaje esta en los $102$ min, con los limites de los cuartiles $59.7$ y $143$. los valores mimino  maximo son de $10$ min y de $180$ min. el $25\\%$ de los viajes dura entre $10$ minutos y $1$ hora, el $50\\%$ siguiente esta entre $1$ hora y $2$ horas, $40$ min, y el ultimo $25\\%$ entre las $2$ horas , $40$ min y las $3$ horas maximo.\n",
    "\n",
    "el promedio de $99$ min es similar a la mediana de $102$, y la apariencia de la caja es simetrica, sin outliers. Esto indica que los datos estan distribuidos uniformemente sobre todo el rango de la duración.\n",
    "\n",
    "La desviación estandar es de $49$, que es alta para la duración esperada de los viajes. Esto puede deberse a que la cubertura del servicio se da en zonas urbanas y rurales, siendo las rurales mas lejanas. Esto tambien explicaria la gran duracion del $75\\%$ de los viajes en el dataset."
   ]
  },
  {
   "cell_type": "markdown",
   "metadata": {},
   "source": [
    "#### **Costo historico del Viaje**"
   ]
  },
  {
   "cell_type": "markdown",
   "metadata": {},
   "source": [
    "##### Medidas de Resumen"
   ]
  },
  {
   "cell_type": "code",
   "execution_count": 142,
   "metadata": {
    "scrolled": true
   },
   "outputs": [
    {
     "data": {
      "text/html": [
       "<div>\n",
       "<style scoped>\n",
       "    .dataframe tbody tr th:only-of-type {\n",
       "        vertical-align: middle;\n",
       "    }\n",
       "\n",
       "    .dataframe tbody tr th {\n",
       "        vertical-align: top;\n",
       "    }\n",
       "\n",
       "    .dataframe thead th {\n",
       "        text-align: right;\n",
       "    }\n",
       "</style>\n",
       "<table border=\"1\" class=\"dataframe\">\n",
       "  <thead>\n",
       "    <tr style=\"text-align: right;\">\n",
       "      <th></th>\n",
       "      <th>Historical_Cost_of_Ride</th>\n",
       "    </tr>\n",
       "  </thead>\n",
       "  <tbody>\n",
       "    <tr>\n",
       "      <th>count</th>\n",
       "      <td>1000.000000</td>\n",
       "    </tr>\n",
       "    <tr>\n",
       "      <th>mean</th>\n",
       "      <td>372.502623</td>\n",
       "    </tr>\n",
       "    <tr>\n",
       "      <th>std</th>\n",
       "      <td>187.158756</td>\n",
       "    </tr>\n",
       "    <tr>\n",
       "      <th>min</th>\n",
       "      <td>25.993449</td>\n",
       "    </tr>\n",
       "    <tr>\n",
       "      <th>25%</th>\n",
       "      <td>221.365202</td>\n",
       "    </tr>\n",
       "    <tr>\n",
       "      <th>50%</th>\n",
       "      <td>362.019426</td>\n",
       "    </tr>\n",
       "    <tr>\n",
       "      <th>75%</th>\n",
       "      <td>510.497504</td>\n",
       "    </tr>\n",
       "    <tr>\n",
       "      <th>max</th>\n",
       "      <td>836.116419</td>\n",
       "    </tr>\n",
       "    <tr>\n",
       "      <th>var</th>\n",
       "      <td>35028.400030</td>\n",
       "    </tr>\n",
       "  </tbody>\n",
       "</table>\n",
       "</div>"
      ],
      "text/plain": [
       "       Historical_Cost_of_Ride\n",
       "count              1000.000000\n",
       "mean                372.502623\n",
       "std                 187.158756\n",
       "min                  25.993449\n",
       "25%                 221.365202\n",
       "50%                 362.019426\n",
       "75%                 510.497504\n",
       "max                 836.116419\n",
       "var               35028.400030"
      ]
     },
     "execution_count": 142,
     "metadata": {},
     "output_type": "execute_result"
    }
   ],
   "source": [
    "medidas_resumen(df_modelos, Num.costo_historico.value)"
   ]
  },
  {
   "cell_type": "markdown",
   "metadata": {},
   "source": [
    "##### Visualización"
   ]
  },
  {
   "cell_type": "code",
   "execution_count": 325,
   "metadata": {},
   "outputs": [
    {
     "data": {
      "image/png": "[encoded data removed]",
      "text/plain": [
       "<Figure size 640x480 with 1 Axes>"
      ]
     },
     "metadata": {},
     "output_type": "display_data"
    }
   ],
   "source": [
    "sns.boxplot(df_modelos[Num.costo_historico.value], orient=\"h\", color=\"m\")\n",
    "plt.show()"
   ]
  },
  {
   "cell_type": "markdown",
   "metadata": {},
   "source": [
    "##### Analisis:"
   ]
  },
  {
   "cell_type": "markdown",
   "metadata": {},
   "source": [
    "No se brinda información sobre la unidad monetaria en la fuente de la información. Se van a usar unidades monetarias genericas *M* para indicar la cantidad.\n",
    "\n",
    "La mediana del conjunto esta en $362$ M, y los limites de la caja son $221.36$ M y $510.49$ M. El costo minimo registrado es de $25.99$ M, y el maximo es de $836.12$ M.\n",
    "Por la apariencia del grafico, se observa que el $50\\%$ de los datos se concentran en un rango estrecho, y que la caja se desvia un poco hacia la izquierda, mostrando los datos estan sesgados hacia la derecha y tienden a valores grandes.\n",
    "\n",
    "el promedio es de $372.5$ M, algo superior a la mediana. la desviación estandar es de $187$ M, pero la longitud estrecha de la caja muestra un relativa baja dispersión. La distancia entre los cuartiles 1,2 es de $141$, y 2,3 es de aprox. $148$ M. Esto implica que, aunque los datos esten estrictamente sesgados, hay una relativa uniformidad en su distribución. Tampoco se observan outliers en el conjunto."
   ]
  },
  {
   "cell_type": "markdown",
   "metadata": {},
   "source": [
    "# 2. Análisis Bidimensional e Inferencial."
   ]
  },
  {
   "cell_type": "markdown",
   "metadata": {},
   "source": [
    "## 1. Dispersion de pares"
   ]
  },
  {
   "cell_type": "markdown",
   "metadata": {},
   "source": [
    "### Costo Historico del Viaje vs. Cantidad de pasajeros"
   ]
  },
  {
   "cell_type": "code",
   "execution_count": 11,
   "metadata": {},
   "outputs": [
    {
     "data": {
      "image/png": "[encoded data removed]",
      "text/plain": [
       "<Figure size 640x480 with 1 Axes>"
      ]
     },
     "metadata": {},
     "output_type": "display_data"
    }
   ],
   "source": [
    "sns.scatterplot(df_modelos, x=Num.pasajeros.value, y=Num.costo_historico.value, marker=\"D\")\n",
    "plt.show()"
   ]
  },
  {
   "cell_type": "markdown",
   "metadata": {},
   "source": [
    "### Costo Historico del Viaje vs. Puntaje Promedio "
   ]
  },
  {
   "cell_type": "code",
   "execution_count": 172,
   "metadata": {},
   "outputs": [
    {
     "data": {
      "image/png": "[encoded data removed]",
      "text/plain": [
       "<Figure size 640x480 with 1 Axes>"
      ]
     },
     "metadata": {},
     "output_type": "display_data"
    }
   ],
   "source": [
    "sns.scatterplot(df_modelos, x=Num.puntaje_promedio.value, y=Num.costo_historico.value, color=\"g\", marker=\"^\" )\n",
    "plt.show()"
   ]
  },
  {
   "cell_type": "markdown",
   "metadata": {},
   "source": [
    "### Costo Historico del Viaje vs. Duracion Esperada del Viaje "
   ]
  },
  {
   "cell_type": "code",
   "execution_count": 175,
   "metadata": {},
   "outputs": [
    {
     "data": {
      "image/png": "[encoded data removed]",
      "text/plain": [
       "<Figure size 640x480 with 1 Axes>"
      ]
     },
     "metadata": {},
     "output_type": "display_data"
    }
   ],
   "source": [
    "sns.scatterplot(df_modelos, x=Num.duracion_esperada.value, y=Num.costo_historico.value , color=\"orange\", marker=\".\")\n",
    "plt.show()"
   ]
  },
  {
   "cell_type": "markdown",
   "metadata": {},
   "source": [
    "### Analisis de tendencias"
   ]
  },
  {
   "cell_type": "markdown",
   "metadata": {},
   "source": [
    "En las dos primeras graficas, no se puede observar una dirección aparente para los puntos, y \n",
    "parecen estar distribuidos por el plano de forma aleatoria. Esto indica que posiblemente no hay relación entre **Costo historico del viaje** vs. **Cantidad de pasajeros**; y entre **Costo historico del viaje** vs. **Puntaje Promedio del viaje**.\n",
    "\n",
    "En la tercera grafica se ve claramente una tendencia creciente entre **Costo Historico del viaje** vs. **Duración esperada del viaje**, y sugiere que la relación es lineal. Esto tiene sentido logico, ya que el costo de viaje debe aumentar con la longitud que este toma, ya que se gasta más combustible y tiempo del conductor, causando mas gasto."
   ]
  },
  {
   "cell_type": "markdown",
   "metadata": {},
   "source": [
    "## 2. Correlaciones Lineales"
   ]
  },
  {
   "cell_type": "markdown",
   "metadata": {},
   "source": [
    "El siguiente fragmento de codigo calcula los coeficientes de correlación de pearson, y los valores *P* de la prueba de correlación asociada al mismo tiempoo.\n",
    "Se hacen pares de las variables numericas en estudio secuencialmente, y toda la informacion se consigna en dos DataFrames: uno llamado  `corr` que contiene\n",
    "los coeficientes, y otro llamado `valores_p` que contiene los valores p de las pruebas estadisticas."
   ]
  },
  {
   "cell_type": "code",
   "execution_count": 40,
   "metadata": {},
   "outputs": [],
   "source": [
    "variables_viajes = df_modelos[[Num.pasajeros.value, Num.duracion_esperada.value, Num.costo_historico.value, Num.puntaje_promedio.value]]\n",
    "\n",
    "corr = pd.DataFrame(index=variables_viajes.columns, columns=variables_viajes.columns)\n",
    "\n",
    "valores_p = corr.copy()\n",
    "\n",
    "for variable_1 in variables_viajes.columns:\n",
    "    coefs = []\n",
    "    p_valores = []\n",
    " \n",
    "    for variable_2 in variables_viajes.columns:\n",
    "        coef, p_valor = pearsonr(variables_viajes[variable_1], variables_viajes[variable_2])\n",
    "        coefs.append(coef)\n",
    "        p_valores.append(p_valor)\n",
    "\n",
    "    corr[variable_1] = coefs\n",
    "    valores_p[variable_1] = p_valores"
   ]
  },
  {
   "cell_type": "markdown",
   "metadata": {},
   "source": [
    "### Coeficientes de Correlación"
   ]
  },
  {
   "cell_type": "code",
   "execution_count": 43,
   "metadata": {},
   "outputs": [
    {
     "data": {
      "image/png": "[encoded data removed]",
      "text/plain": [
       "<Figure size 400x400 with 2 Axes>"
      ]
     },
     "metadata": {},
     "output_type": "display_data"
    }
   ],
   "source": [
    "heatmap(corr, \"Coeficientes Pearson\")"
   ]
  },
  {
   "cell_type": "markdown",
   "metadata": {},
   "source": [
    "### Valores P de las pruebas estadiscas de correlación"
   ]
  },
  {
   "cell_type": "code",
   "execution_count": 42,
   "metadata": {},
   "outputs": [
    {
     "data": {
      "image/png": "[encoded data removed]",
      "text/plain": [
       "<Figure size 400x400 with 2 Axes>"
      ]
     },
     "metadata": {},
     "output_type": "display_data"
    }
   ],
   "source": [
    "heatmap(valores_p, \"Valores P\", formato=\".3f\", mapa=\"Reds_r\")"
   ]
  },
  {
   "cell_type": "markdown",
   "metadata": {},
   "source": [
    "### Analisis Sobre las correlaciones:"
   ]
  },
  {
   "cell_type": "markdown",
   "metadata": {},
   "source": [
    "El primer mapa de calor muestra los resultados del test de pearson. Se observa que solo se obtuvo un valor alto \n",
    "y cercano a 1 entre las variables de **costo historico del viaje** y **duración esperada del viaje** con un valor de $r= 0.93$. Esto sugiere que la relacion es fuertemente lineal en este emparejamiento. \n",
    "\n",
    "En los demas pares, **costo historico del viaje** vs. **Cantidad de Pasajeros** y **duración esperada del viaje** vs. **Cantidad de Pasajeros**, se observan valores de *r* casi nulos. Esto implica que no tienen correlacion lineal, pero no descarta que puedan tener algún otro tipo de correlación. \n",
    "\n",
    "Para comprobar estas relaciones se recurre al calculo de valores *P*. Para esto hay que tener en cuenta cuales hipotesis se estan usando:\n",
    "$$ H_0: \\rho = 0 $$\n",
    "$$ H_1: \\rho \\neq 0 $$\n",
    "\n",
    "donde $\\rho$ es el coeficiente de pearson de la población. Lo que significa la hipotesis nula es que las varaibles no tienen una correlación lineal, y estan distribuidos normalmente en la población.\n",
    "\n",
    "El segundo mapa de calor esta alterado para que valores bajos tengan una coloración mas intensa; y se puede observar que el valor mas bajo de $P = 0.00$ se da precisamente entre **costo historico del viaje** y **duración esperada del viaje**. En este caso, se rechaza la hipotesis nula, y se concluye que hay una alta posibilidad de que ambas tengan una correlación lineal fuerte.\n",
    "\n",
    "Para los otros tres pares, se encuentra que los valores *P* son: \n",
    "\n",
    "**Costo historico del viaje** vs. **Cantidad de Pasajeros**: $p = 0.854$\n",
    "\n",
    "**Duración esperada del viaje** vs. **Cantidad de Pasajeros**: $p = 0.616$ \n",
    "\n",
    "**Costo historico del viaje** vs. **Puntaje Promedio**: $p = 0.973$ \n",
    "\n",
    "Los valores altos y mayores que 0.05 sugieren aceptar la hipotesis nula, y aceptar que los pares de variables no tienen correlacion lineal, y posiblimente no tienen correlación en la población. \n"
   ]
  },
  {
   "cell_type": "markdown",
   "metadata": {},
   "source": [
    "## 3. Tablas de Contingencia Y Pruebas Chi-Cuadrado"
   ]
  },
  {
   "cell_type": "markdown",
   "metadata": {},
   "source": [
    "El siguiente fragmento de codigo calcula las tablas de contingencia para las combinaciones de tres variables dadas, y realiza un prueba de chi-cuadrado entre las variables,\n",
    "con el proposito de comprobar la significancia estadistica de las proporciones/mayorias en las tablaso de contingencia."
   ]
  },
  {
   "cell_type": "code",
   "execution_count": 17,
   "metadata": {},
   "outputs": [],
   "source": [
    "def tabla_contingencia(datos, factores, relativa=False):\n",
    "    \"\"\"\n",
    "    Construir una tabla de contingencia.\n",
    "    \"\"\"\n",
    "    f1, f2 = factores\n",
    "    \n",
    "    tabla = pd.crosstab(datos[f1], datos[f2],  margins=True)\n",
    "\n",
    "    if relativa:\n",
    "        for campo in tabla.columns[:-1]:\n",
    "            tabla[campo] /= tabla[campo].iloc[-1]\n",
    "\n",
    "        tabla[\"All\"] /= tabla[\"All\"]\n",
    "\n",
    "    return tabla\n",
    "\n",
    "def test_chi_cuadrado(datos):\n",
    "    \"\"\"\n",
    "    crea un dataframe, con las filas siendo los totales de las columnas, duplicado\n",
    "    la cantidad de filas de los datos\n",
    "    \"\"\"\n",
    "    \n",
    "    totales_por_columna_aumentado = pd.DataFrame([datos.iloc[-1,:-1].values]*(datos.shape[0] - 1))\n",
    "\n",
    "    probabilidad_positiva= datos.iloc[:-1,-1].values / datos.iloc[-1,-1] \n",
    "\n",
    "    #calculo de la frecuencias esperadas, multiplicando la probabilidad del \n",
    "    #evento positivo por el total de columna, por cada fila\n",
    "    frec_esp = totales_por_columna_aumentado.mul(probabilidad_positiva, axis=0)\n",
    "\n",
    "    #delta de los grados de libertad para el chi cuadrado\n",
    "    ddof = sum(frec_esp.shape) - 2\n",
    "\n",
    "    gl = (frec_esp.shape[0] - 1) * (frec_esp.shape[1] - 1)\n",
    "\n",
    "    #el parametro axis, hace que las frecuencias se tomen como si fuera un vector\n",
    "    return chisquare(datos.iloc[:-1, :-1], f_exp=frec_esp, ddof=ddof, axis=None), gl\n",
    "\n",
    "def mostrar_chi(resultados):\n",
    "    \"\"\"\n",
    "    mostrar un pequeño resumen de los\n",
    "    resultados de un prueba chi-cuadrado\n",
    "    \"\"\"\n",
    "    test, gl = resultados\n",
    "\n",
    "    print(f\"Chi Cuadrado    : {test.statistic:.3f}\")\n",
    "    \n",
    "    print(f\"Valor P         : {test.pvalue:.3f}\")\n",
    "    \n",
    "    print(f\"Grados libertad : {gl}\")\n",
    "    \n",
    "  "
   ]
  },
  {
   "cell_type": "markdown",
   "metadata": {},
   "source": [
    "### Prueba de Chi-Cuadrado"
   ]
  },
  {
   "cell_type": "markdown",
   "metadata": {},
   "source": [
    "La prueba de chi-cuadrado se usa regularmente en contextos donde se desea ver si hay alguna relación entre dos variables categoricas, tomando en cuenta las proporciones entre sus categorias.\n",
    "Se desea saber si dos variables son o no independientes entre si, con los datos dados. Esta pregunta se puede expresar naturalmente con la probablidad, creando la siguiente hipotesis nula:\n",
    "\n",
    "$$ H_0: P(X_1|Y_1) = P(X_1|Y_2) = P(X_1|Y_3) ... = P(X_1|Y_n)$$\n",
    "$$ H_1: \\neg (P(X_1|Y_1) = P(X_1|Y_2) = P(X_1|Y_3) ... = P(X_1|Y_n)) $$\n",
    "\n",
    "En las formulas, $P$ indica probablidad condicional, $X$ es una de las variables, y $Y$ es la segunda de ellas. Lo que la hipotesis nula esta indicando, es que la probabilidad de que la variable $X$ tome un valor especifico sera la misma sin importar que valor tenga la variable $Y$. La hipotesis alternativa indica que que las probabilidades son diferentes por lo menos para algun valor de la variable $X$, y alguno de la variable $Y$."
   ]
  },
  {
   "cell_type": "markdown",
   "metadata": {},
   "source": [
    "### Lealtad del Cliente vs. Hora de Agendar "
   ]
  },
  {
   "cell_type": "code",
   "execution_count": 25,
   "metadata": {},
   "outputs": [
    {
     "data": {
      "text/html": [
       "<div>\n",
       "<style scoped>\n",
       "    .dataframe tbody tr th:only-of-type {\n",
       "        vertical-align: middle;\n",
       "    }\n",
       "\n",
       "    .dataframe tbody tr th {\n",
       "        vertical-align: top;\n",
       "    }\n",
       "\n",
       "    .dataframe thead th {\n",
       "        text-align: right;\n",
       "    }\n",
       "</style>\n",
       "<table border=\"1\" class=\"dataframe\">\n",
       "  <thead>\n",
       "    <tr style=\"text-align: right;\">\n",
       "      <th>Customer_Loyalty_Status</th>\n",
       "      <th>Gold</th>\n",
       "      <th>Regular</th>\n",
       "      <th>Silver</th>\n",
       "      <th>All</th>\n",
       "    </tr>\n",
       "    <tr>\n",
       "      <th>Time_of_Booking</th>\n",
       "      <th></th>\n",
       "      <th></th>\n",
       "      <th></th>\n",
       "      <th></th>\n",
       "    </tr>\n",
       "  </thead>\n",
       "  <tbody>\n",
       "    <tr>\n",
       "      <th>Afternoon</th>\n",
       "      <td>68</td>\n",
       "      <td>89</td>\n",
       "      <td>90</td>\n",
       "      <td>247</td>\n",
       "    </tr>\n",
       "    <tr>\n",
       "      <th>Evening</th>\n",
       "      <td>76</td>\n",
       "      <td>74</td>\n",
       "      <td>81</td>\n",
       "      <td>231</td>\n",
       "    </tr>\n",
       "    <tr>\n",
       "      <th>Morning</th>\n",
       "      <td>79</td>\n",
       "      <td>79</td>\n",
       "      <td>88</td>\n",
       "      <td>246</td>\n",
       "    </tr>\n",
       "    <tr>\n",
       "      <th>Night</th>\n",
       "      <td>90</td>\n",
       "      <td>78</td>\n",
       "      <td>108</td>\n",
       "      <td>276</td>\n",
       "    </tr>\n",
       "    <tr>\n",
       "      <th>All</th>\n",
       "      <td>313</td>\n",
       "      <td>320</td>\n",
       "      <td>367</td>\n",
       "      <td>1000</td>\n",
       "    </tr>\n",
       "  </tbody>\n",
       "</table>\n",
       "</div>"
      ],
      "text/plain": [
       "Customer_Loyalty_Status  Gold  Regular  Silver   All\n",
       "Time_of_Booking                                     \n",
       "Afternoon                  68       89      90   247\n",
       "Evening                    76       74      81   231\n",
       "Morning                    79       79      88   246\n",
       "Night                      90       78     108   276\n",
       "All                       313      320     367  1000"
      ]
     },
     "metadata": {},
     "output_type": "display_data"
    }
   ],
   "source": [
    "tabla_1 = tabla_contingencia(df_modelos, (Categ.tiempo_viaje.value, Categ.lealtad.value ))\n",
    "\n",
    "display(tabla_1)"
   ]
  },
  {
   "cell_type": "markdown",
   "metadata": {},
   "source": [
    "#### Por Proporciones:"
   ]
  },
  {
   "cell_type": "code",
   "execution_count": 19,
   "metadata": {},
   "outputs": [
    {
     "data": {
      "text/html": [
       "<div>\n",
       "<style scoped>\n",
       "    .dataframe tbody tr th:only-of-type {\n",
       "        vertical-align: middle;\n",
       "    }\n",
       "\n",
       "    .dataframe tbody tr th {\n",
       "        vertical-align: top;\n",
       "    }\n",
       "\n",
       "    .dataframe thead th {\n",
       "        text-align: right;\n",
       "    }\n",
       "</style>\n",
       "<table border=\"1\" class=\"dataframe\">\n",
       "  <thead>\n",
       "    <tr style=\"text-align: right;\">\n",
       "      <th>Customer_Loyalty_Status</th>\n",
       "      <th>Gold</th>\n",
       "      <th>Regular</th>\n",
       "      <th>Silver</th>\n",
       "      <th>All</th>\n",
       "    </tr>\n",
       "    <tr>\n",
       "      <th>Time_of_Booking</th>\n",
       "      <th></th>\n",
       "      <th></th>\n",
       "      <th></th>\n",
       "      <th></th>\n",
       "    </tr>\n",
       "  </thead>\n",
       "  <tbody>\n",
       "    <tr>\n",
       "      <th>Afternoon</th>\n",
       "      <td>0.217</td>\n",
       "      <td>0.278</td>\n",
       "      <td>0.245</td>\n",
       "      <td>1.000</td>\n",
       "    </tr>\n",
       "    <tr>\n",
       "      <th>Evening</th>\n",
       "      <td>0.243</td>\n",
       "      <td>0.231</td>\n",
       "      <td>0.221</td>\n",
       "      <td>1.000</td>\n",
       "    </tr>\n",
       "    <tr>\n",
       "      <th>Morning</th>\n",
       "      <td>0.252</td>\n",
       "      <td>0.247</td>\n",
       "      <td>0.240</td>\n",
       "      <td>1.000</td>\n",
       "    </tr>\n",
       "    <tr>\n",
       "      <th>Night</th>\n",
       "      <td>0.288</td>\n",
       "      <td>0.244</td>\n",
       "      <td>0.294</td>\n",
       "      <td>1.000</td>\n",
       "    </tr>\n",
       "    <tr>\n",
       "      <th>All</th>\n",
       "      <td>1.000</td>\n",
       "      <td>1.000</td>\n",
       "      <td>1.000</td>\n",
       "      <td>1.000</td>\n",
       "    </tr>\n",
       "  </tbody>\n",
       "</table>\n",
       "</div>"
      ],
      "text/plain": [
       "Customer_Loyalty_Status  Gold  Regular  Silver   All\n",
       "Time_of_Booking                                     \n",
       "Afternoon               0.217    0.278   0.245 1.000\n",
       "Evening                 0.243    0.231   0.221 1.000\n",
       "Morning                 0.252    0.247   0.240 1.000\n",
       "Night                   0.288    0.244   0.294 1.000\n",
       "All                     1.000    1.000   1.000 1.000"
      ]
     },
     "metadata": {},
     "output_type": "display_data"
    }
   ],
   "source": [
    "tabla_1_p = tabla_contingencia(df_modelos, (Categ.tiempo_viaje.value, Categ.lealtad.value ), relativa=True)\n",
    "\n",
    "display(tabla_1_p)"
   ]
  },
  {
   "cell_type": "code",
   "execution_count": 99,
   "metadata": {},
   "outputs": [
    {
     "name": "stdout",
     "output_type": "stream",
     "text": [
      "Chi Cuadrado    : 4.650\n",
      "Valor P         : 0.589\n",
      "Grados libertad : 6\n"
     ]
    }
   ],
   "source": [
    "mostrar_chi(test_chi_cuadrado(tabla_1))"
   ]
  },
  {
   "cell_type": "markdown",
   "metadata": {},
   "source": [
    "#### Analisis:"
   ]
  },
  {
   "cell_type": "markdown",
   "metadata": {},
   "source": [
    "La tabla de contingencia muestra que en las horas de la mañana y de la noche es donde se presentan la mayor cantidad de solicitudes para el servicio de transporte, en los grupos de oro y plata, mientras que en el grupo regular sucede en las horas de la mañana y tarde. \n",
    "\n",
    "Esto se podria explicar por la gran afluencia de personas que se deben desplazar para trabajar en la mañana, y volver en la noche, que intuitivamente seria mayor que las que se desplazan en la tarde o al anochecer, y no necesariamente tendria que ver con el clase de lealtad del cliente.\n",
    "\n",
    "la prueba de chi-cuadrado nos mostraria si hay alguna significancia en estas diferencias. El resultado del valor $P = 0.59$ equivalente para la prueba es muy superior al critico de *0.05*,\n",
    "indicando que hay gran probalidad para que se de la hipotesis nula: no habria evidencia para afirmar que algun grupo solicite de forma diferencial en ciertas horas del dia, sobre los otros. "
   ]
  },
  {
   "cell_type": "markdown",
   "metadata": {},
   "source": [
    "### Lealtad del Cliente vs. Tipo de Vehiculo "
   ]
  },
  {
   "cell_type": "code",
   "execution_count": 21,
   "metadata": {
    "scrolled": true
   },
   "outputs": [
    {
     "data": {
      "text/html": [
       "<div>\n",
       "<style scoped>\n",
       "    .dataframe tbody tr th:only-of-type {\n",
       "        vertical-align: middle;\n",
       "    }\n",
       "\n",
       "    .dataframe tbody tr th {\n",
       "        vertical-align: top;\n",
       "    }\n",
       "\n",
       "    .dataframe thead th {\n",
       "        text-align: right;\n",
       "    }\n",
       "</style>\n",
       "<table border=\"1\" class=\"dataframe\">\n",
       "  <thead>\n",
       "    <tr style=\"text-align: right;\">\n",
       "      <th>Customer_Loyalty_Status</th>\n",
       "      <th>Gold</th>\n",
       "      <th>Regular</th>\n",
       "      <th>Silver</th>\n",
       "      <th>All</th>\n",
       "    </tr>\n",
       "    <tr>\n",
       "      <th>Vehicle_Type</th>\n",
       "      <th></th>\n",
       "      <th></th>\n",
       "      <th></th>\n",
       "      <th></th>\n",
       "    </tr>\n",
       "  </thead>\n",
       "  <tbody>\n",
       "    <tr>\n",
       "      <th>Economy</th>\n",
       "      <td>153</td>\n",
       "      <td>144</td>\n",
       "      <td>181</td>\n",
       "      <td>478</td>\n",
       "    </tr>\n",
       "    <tr>\n",
       "      <th>Premium</th>\n",
       "      <td>160</td>\n",
       "      <td>176</td>\n",
       "      <td>186</td>\n",
       "      <td>522</td>\n",
       "    </tr>\n",
       "    <tr>\n",
       "      <th>All</th>\n",
       "      <td>313</td>\n",
       "      <td>320</td>\n",
       "      <td>367</td>\n",
       "      <td>1000</td>\n",
       "    </tr>\n",
       "  </tbody>\n",
       "</table>\n",
       "</div>"
      ],
      "text/plain": [
       "Customer_Loyalty_Status  Gold  Regular  Silver   All\n",
       "Vehicle_Type                                        \n",
       "Economy                   153      144     181   478\n",
       "Premium                   160      176     186   522\n",
       "All                       313      320     367  1000"
      ]
     },
     "metadata": {},
     "output_type": "display_data"
    }
   ],
   "source": [
    "tabla_2 = tabla_contingencia(df_modelos, (Categ.vehiculo.value, Categ.lealtad.value))\n",
    "\n",
    "display(tabla_2)"
   ]
  },
  {
   "cell_type": "markdown",
   "metadata": {},
   "source": [
    "#### Por Proporciones:"
   ]
  },
  {
   "cell_type": "code",
   "execution_count": 20,
   "metadata": {},
   "outputs": [
    {
     "data": {
      "text/html": [
       "<div>\n",
       "<style scoped>\n",
       "    .dataframe tbody tr th:only-of-type {\n",
       "        vertical-align: middle;\n",
       "    }\n",
       "\n",
       "    .dataframe tbody tr th {\n",
       "        vertical-align: top;\n",
       "    }\n",
       "\n",
       "    .dataframe thead th {\n",
       "        text-align: right;\n",
       "    }\n",
       "</style>\n",
       "<table border=\"1\" class=\"dataframe\">\n",
       "  <thead>\n",
       "    <tr style=\"text-align: right;\">\n",
       "      <th>Customer_Loyalty_Status</th>\n",
       "      <th>Gold</th>\n",
       "      <th>Regular</th>\n",
       "      <th>Silver</th>\n",
       "      <th>All</th>\n",
       "    </tr>\n",
       "    <tr>\n",
       "      <th>Vehicle_Type</th>\n",
       "      <th></th>\n",
       "      <th></th>\n",
       "      <th></th>\n",
       "      <th></th>\n",
       "    </tr>\n",
       "  </thead>\n",
       "  <tbody>\n",
       "    <tr>\n",
       "      <th>Economy</th>\n",
       "      <td>0.489</td>\n",
       "      <td>0.450</td>\n",
       "      <td>0.493</td>\n",
       "      <td>1.000</td>\n",
       "    </tr>\n",
       "    <tr>\n",
       "      <th>Premium</th>\n",
       "      <td>0.511</td>\n",
       "      <td>0.550</td>\n",
       "      <td>0.507</td>\n",
       "      <td>1.000</td>\n",
       "    </tr>\n",
       "    <tr>\n",
       "      <th>All</th>\n",
       "      <td>1.000</td>\n",
       "      <td>1.000</td>\n",
       "      <td>1.000</td>\n",
       "      <td>1.000</td>\n",
       "    </tr>\n",
       "  </tbody>\n",
       "</table>\n",
       "</div>"
      ],
      "text/plain": [
       "Customer_Loyalty_Status  Gold  Regular  Silver   All\n",
       "Vehicle_Type                                        \n",
       "Economy                 0.489    0.450   0.493 1.000\n",
       "Premium                 0.511    0.550   0.507 1.000\n",
       "All                     1.000    1.000   1.000 1.000"
      ]
     },
     "metadata": {},
     "output_type": "display_data"
    }
   ],
   "source": [
    "tabla_2_p = tabla_contingencia(df_modelos, (Categ.vehiculo.value, Categ.lealtad.value), relativa=True)\n",
    "\n",
    "display(tabla_2_p)"
   ]
  },
  {
   "cell_type": "code",
   "execution_count": 86,
   "metadata": {},
   "outputs": [
    {
     "name": "stdout",
     "output_type": "stream",
     "text": [
      "Chi Cuadrado    : 1.492\n",
      "Valor P         : 0.474\n",
      "Grados libertad : 2\n"
     ]
    }
   ],
   "source": [
    "mostrar_chi(test_chi_cuadrado(tabla_2))"
   ]
  },
  {
   "cell_type": "markdown",
   "metadata": {},
   "source": [
    "#### Analisis:"
   ]
  },
  {
   "cell_type": "markdown",
   "metadata": {},
   "source": [
    "Observando los tres grupos, se observa que en los tres grupo de lealtad se solicitan mas vehiculos de clase premium, donde la clase regular tiene la mayoria con un  $55\\%$. Estos datos reflejarian que los vehiculos de tipo premium son en general mejores que los economicos, y la preferencia obedezca a otros factores diferentes de la lealtad.\n",
    "\n",
    "la Pruba de chi-cuadrado obtuvo un valor de $P=0.47$, y en este caso tambien da positiva para la hipotesis nula: los datos proporcionados no dan suficiente evidencia para afirmar que pertenecer a cierto grupo de lealtad implique preferir alguna de las clases del vehiculo."
   ]
  },
  {
   "cell_type": "markdown",
   "metadata": {},
   "source": [
    "### Hora de Agendar vs. Tipo de Vehiculo"
   ]
  },
  {
   "cell_type": "code",
   "execution_count": 22,
   "metadata": {
    "scrolled": true
   },
   "outputs": [
    {
     "data": {
      "text/html": [
       "<div>\n",
       "<style scoped>\n",
       "    .dataframe tbody tr th:only-of-type {\n",
       "        vertical-align: middle;\n",
       "    }\n",
       "\n",
       "    .dataframe tbody tr th {\n",
       "        vertical-align: top;\n",
       "    }\n",
       "\n",
       "    .dataframe thead th {\n",
       "        text-align: right;\n",
       "    }\n",
       "</style>\n",
       "<table border=\"1\" class=\"dataframe\">\n",
       "  <thead>\n",
       "    <tr style=\"text-align: right;\">\n",
       "      <th>Vehicle_Type</th>\n",
       "      <th>Economy</th>\n",
       "      <th>Premium</th>\n",
       "      <th>All</th>\n",
       "    </tr>\n",
       "    <tr>\n",
       "      <th>Time_of_Booking</th>\n",
       "      <th></th>\n",
       "      <th></th>\n",
       "      <th></th>\n",
       "    </tr>\n",
       "  </thead>\n",
       "  <tbody>\n",
       "    <tr>\n",
       "      <th>Afternoon</th>\n",
       "      <td>123</td>\n",
       "      <td>124</td>\n",
       "      <td>247</td>\n",
       "    </tr>\n",
       "    <tr>\n",
       "      <th>Evening</th>\n",
       "      <td>98</td>\n",
       "      <td>133</td>\n",
       "      <td>231</td>\n",
       "    </tr>\n",
       "    <tr>\n",
       "      <th>Morning</th>\n",
       "      <td>121</td>\n",
       "      <td>125</td>\n",
       "      <td>246</td>\n",
       "    </tr>\n",
       "    <tr>\n",
       "      <th>Night</th>\n",
       "      <td>136</td>\n",
       "      <td>140</td>\n",
       "      <td>276</td>\n",
       "    </tr>\n",
       "    <tr>\n",
       "      <th>All</th>\n",
       "      <td>478</td>\n",
       "      <td>522</td>\n",
       "      <td>1000</td>\n",
       "    </tr>\n",
       "  </tbody>\n",
       "</table>\n",
       "</div>"
      ],
      "text/plain": [
       "Vehicle_Type     Economy  Premium   All\n",
       "Time_of_Booking                        \n",
       "Afternoon            123      124   247\n",
       "Evening               98      133   231\n",
       "Morning              121      125   246\n",
       "Night                136      140   276\n",
       "All                  478      522  1000"
      ]
     },
     "metadata": {},
     "output_type": "display_data"
    }
   ],
   "source": [
    "tabla_3 = tabla_contingencia(df_modelos, (Categ.tiempo_viaje.value, Categ.vehiculo.value))\n",
    "\n",
    "display(tabla_3)"
   ]
  },
  {
   "cell_type": "markdown",
   "metadata": {},
   "source": [
    "#### Por Proporciones:"
   ]
  },
  {
   "cell_type": "code",
   "execution_count": 23,
   "metadata": {},
   "outputs": [
    {
     "data": {
      "text/html": [
       "<div>\n",
       "<style scoped>\n",
       "    .dataframe tbody tr th:only-of-type {\n",
       "        vertical-align: middle;\n",
       "    }\n",
       "\n",
       "    .dataframe tbody tr th {\n",
       "        vertical-align: top;\n",
       "    }\n",
       "\n",
       "    .dataframe thead th {\n",
       "        text-align: right;\n",
       "    }\n",
       "</style>\n",
       "<table border=\"1\" class=\"dataframe\">\n",
       "  <thead>\n",
       "    <tr style=\"text-align: right;\">\n",
       "      <th>Vehicle_Type</th>\n",
       "      <th>Economy</th>\n",
       "      <th>Premium</th>\n",
       "      <th>All</th>\n",
       "    </tr>\n",
       "    <tr>\n",
       "      <th>Time_of_Booking</th>\n",
       "      <th></th>\n",
       "      <th></th>\n",
       "      <th></th>\n",
       "    </tr>\n",
       "  </thead>\n",
       "  <tbody>\n",
       "    <tr>\n",
       "      <th>Afternoon</th>\n",
       "      <td>0.257</td>\n",
       "      <td>0.238</td>\n",
       "      <td>1.000</td>\n",
       "    </tr>\n",
       "    <tr>\n",
       "      <th>Evening</th>\n",
       "      <td>0.205</td>\n",
       "      <td>0.255</td>\n",
       "      <td>1.000</td>\n",
       "    </tr>\n",
       "    <tr>\n",
       "      <th>Morning</th>\n",
       "      <td>0.253</td>\n",
       "      <td>0.239</td>\n",
       "      <td>1.000</td>\n",
       "    </tr>\n",
       "    <tr>\n",
       "      <th>Night</th>\n",
       "      <td>0.285</td>\n",
       "      <td>0.268</td>\n",
       "      <td>1.000</td>\n",
       "    </tr>\n",
       "    <tr>\n",
       "      <th>All</th>\n",
       "      <td>1.000</td>\n",
       "      <td>1.000</td>\n",
       "      <td>1.000</td>\n",
       "    </tr>\n",
       "  </tbody>\n",
       "</table>\n",
       "</div>"
      ],
      "text/plain": [
       "Vehicle_Type     Economy  Premium   All\n",
       "Time_of_Booking                        \n",
       "Afternoon          0.257    0.238 1.000\n",
       "Evening            0.205    0.255 1.000\n",
       "Morning            0.253    0.239 1.000\n",
       "Night              0.285    0.268 1.000\n",
       "All                1.000    1.000 1.000"
      ]
     },
     "metadata": {},
     "output_type": "display_data"
    }
   ],
   "source": [
    "tabla_2_p = tabla_contingencia(df_modelos, (Categ.tiempo_viaje.value, Categ.vehiculo.value), relativa=True)\n",
    "\n",
    "display(tabla_2_p)"
   ]
  },
  {
   "cell_type": "markdown",
   "metadata": {},
   "source": [
    "#### Variables invertidas:\n"
   ]
  },
  {
   "cell_type": "code",
   "execution_count": 24,
   "metadata": {},
   "outputs": [
    {
     "data": {
      "text/html": [
       "<div>\n",
       "<style scoped>\n",
       "    .dataframe tbody tr th:only-of-type {\n",
       "        vertical-align: middle;\n",
       "    }\n",
       "\n",
       "    .dataframe tbody tr th {\n",
       "        vertical-align: top;\n",
       "    }\n",
       "\n",
       "    .dataframe thead th {\n",
       "        text-align: right;\n",
       "    }\n",
       "</style>\n",
       "<table border=\"1\" class=\"dataframe\">\n",
       "  <thead>\n",
       "    <tr style=\"text-align: right;\">\n",
       "      <th>Time_of_Booking</th>\n",
       "      <th>Afternoon</th>\n",
       "      <th>Evening</th>\n",
       "      <th>Morning</th>\n",
       "      <th>Night</th>\n",
       "      <th>All</th>\n",
       "    </tr>\n",
       "    <tr>\n",
       "      <th>Vehicle_Type</th>\n",
       "      <th></th>\n",
       "      <th></th>\n",
       "      <th></th>\n",
       "      <th></th>\n",
       "      <th></th>\n",
       "    </tr>\n",
       "  </thead>\n",
       "  <tbody>\n",
       "    <tr>\n",
       "      <th>Economy</th>\n",
       "      <td>0.498</td>\n",
       "      <td>0.424</td>\n",
       "      <td>0.492</td>\n",
       "      <td>0.493</td>\n",
       "      <td>1.000</td>\n",
       "    </tr>\n",
       "    <tr>\n",
       "      <th>Premium</th>\n",
       "      <td>0.502</td>\n",
       "      <td>0.576</td>\n",
       "      <td>0.508</td>\n",
       "      <td>0.507</td>\n",
       "      <td>1.000</td>\n",
       "    </tr>\n",
       "    <tr>\n",
       "      <th>All</th>\n",
       "      <td>1.000</td>\n",
       "      <td>1.000</td>\n",
       "      <td>1.000</td>\n",
       "      <td>1.000</td>\n",
       "      <td>1.000</td>\n",
       "    </tr>\n",
       "  </tbody>\n",
       "</table>\n",
       "</div>"
      ],
      "text/plain": [
       "Time_of_Booking  Afternoon  Evening  Morning  Night   All\n",
       "Vehicle_Type                                             \n",
       "Economy              0.498    0.424    0.492  0.493 1.000\n",
       "Premium              0.502    0.576    0.508  0.507 1.000\n",
       "All                  1.000    1.000    1.000  1.000 1.000"
      ]
     },
     "metadata": {},
     "output_type": "display_data"
    }
   ],
   "source": [
    "tabla_2_p = tabla_contingencia(df_modelos, ( Categ.vehiculo.value, Categ.tiempo_viaje.value), relativa=True)\n",
    "\n",
    "display(tabla_2_p)"
   ]
  },
  {
   "cell_type": "code",
   "execution_count": 102,
   "metadata": {},
   "outputs": [
    {
     "name": "stdout",
     "output_type": "stream",
     "text": [
      "Chi Cuadrado    : 3.501\n",
      "Valor P         : 0.321\n",
      "Grados libertad : 3\n"
     ]
    }
   ],
   "source": [
    "mostrar_chi(test_chi_cuadrado(tabla_3))"
   ]
  },
  {
   "cell_type": "markdown",
   "metadata": {},
   "source": [
    "#### Analisis:"
   ]
  },
  {
   "cell_type": "markdown",
   "metadata": {},
   "source": [
    "En este caso, se hicieron dos tablas de contingencia de proporciones, con las variables invertidas. En la primera se observa que en la noche se piden la mayor cantidad de viajes en cualquiera de las \n",
    "categorias de vehiculo con porcentajes de $28.45\\%$ para la economica, y $26.81\\%$ para la premium. La otra tabla revela que en, todas la franjas de tiempo, se pide mas la categoria premium que la regular, superando o igualando el $50\\%$ en todos los casos. Esto podria reflejar que en la noche el trafico en grande, posiblemente por el flujo de personas regresando, aunque se necesitaria mas contexto. \n",
    "\n",
    "La relación entre la hora de la solicitud y el tipo de vehiculo seria menos clara, la mayoria de los vehiculos premium podria deberse a otros factores diferentes. la prueba chi-cuadrado muesta un $P = 0.321$, que indica que se debe aceptar la hipotesis nula: No parece haber relación entre las dos variables."
   ]
  },
  {
   "cell_type": "markdown",
   "metadata": {},
   "source": [
    "## 4. Pruebas ANOVA"
   ]
  },
  {
   "cell_type": "markdown",
   "metadata": {},
   "source": [
    "Para poder realizar el analisis de medias entre las diferentes grupos de lealtad y las variables numericas dadas, se agrupó el conjunto de datos con el metodo `groupby` de los dataframes de pandas. Este objeto es el `grupos_lealtad` de la siguiente celda.\n",
    "\n",
    "En los siguientes calculos, se consigue el campo correspondiente a la variable numerica en estudio, se visualizan por medio de un grafico de cajas y bigotes, y se les realiza un prueba de ANOVA de una unica variable, comprobando si existen diferencias significativas entre las variables.\n",
    "\n",
    "Para tres pruebas se tienen las siguientes hipotesis: \n",
    "\n",
    "$$ H_0: \\mu_{gold} = \\mu_{silver} = \\mu_{regular} $$\n",
    "$$ H_1: \\neg (\\mu_{gold} = \\mu_{silver} = \\mu_{regular} ) $$\n",
    "\n",
    "La hipotesis nula indica que que no hay diferencias significativas entre las medias de los grupos, y la hipotesis alternativa indica que puede haber diferencia entre las medias de  todos los grupos, o al menos entre dos de ellos.\n",
    "\n"
   ]
  },
  {
   "cell_type": "code",
   "execution_count": 107,
   "metadata": {},
   "outputs": [],
   "source": [
    "def mostrar_anova(resultados):\n",
    "    \"\"\"\n",
    "    mostrar un pequeño resumen de los\n",
    "    resultados de un prueba ANOVA\n",
    "    \"\"\"\n",
    "\n",
    "    print(f\"Valor F: {resultados.statistic:.3f}\")\n",
    "    \n",
    "    print(f\"Valor P: {resultados.pvalue:.3f}\")\n",
    "    \n",
    " \n",
    "grupos_lealtad = df_modelos.groupby([Categ.lealtad.value])"
   ]
  },
  {
   "cell_type": "markdown",
   "metadata": {},
   "source": [
    "### Puntaje Promedio vs. Lealtad del Cliente"
   ]
  },
  {
   "cell_type": "code",
   "execution_count": 225,
   "metadata": {},
   "outputs": [
    {
     "data": {
      "image/png": "[encoded data removed]",
      "text/plain": [
       "<Figure size 640x480 with 1 Axes>"
      ]
     },
     "metadata": {},
     "output_type": "display_data"
    }
   ],
   "source": [
    "sns.boxplot(data=df_modelos, x=Num.puntaje_promedio.value, y=Categ.lealtad.value, color=\"m\")\n",
    "plt.show()"
   ]
  },
  {
   "cell_type": "code",
   "execution_count": 108,
   "metadata": {},
   "outputs": [
    {
     "data": {
      "text/plain": [
       "Customer_Loyalty_Status\n",
       "Gold       [3.59, 4.14, 4.12, 4.31, 3.81, 4.39, 4.79, 4.6...\n",
       "Regular    [4.31, 3.77, 4.41, 4.69, 4.95, 4.95, 3.97, 3.6...\n",
       "Silver     [4.47, 4.06, 3.99, 3.51, 3.74, 3.85, 4.22, 4.5...\n",
       "Name: Average_Ratings, dtype: object"
      ]
     },
     "metadata": {},
     "output_type": "display_data"
    },
    {
     "name": "stdout",
     "output_type": "stream",
     "text": [
      "Valor F: 2.314\n",
      "Valor P: 0.099\n"
     ]
    }
   ],
   "source": [
    "muestras_puntaje = grupos_lealtad[Num.puntaje_promedio.value].apply(np.array)\n",
    "display(muestras_puntaje)\n",
    "resultados = f_oneway(*muestras_puntaje) \n",
    "mostrar_anova(resultados)"
   ]
  },
  {
   "cell_type": "markdown",
   "metadata": {},
   "source": [
    "#### Interpretación Caja de bigotes:"
   ]
  },
  {
   "cell_type": "markdown",
   "metadata": {},
   "source": [
    "Los graficos de caja para los tres grupos se ven similares, y la mediana de los tres se acercan al mismo valor de $4.3$. La caja de la categoría de plata es más ancha, mostrando mas variabilidad en los grupos, y el grupo regular me el de menos variabilidad. Esto mostraráa que la calidad de los viajes es casi la misma a traves de los diferentes grupos de lealtad. Adicionalmente, no se observan outliers en ninguno de los grupos, y se observa una distribución similar sin considerar la separación por grupos, indicando que los datos estan bien distribuidos. No se considera que haya diferencias significativas.\n"
   ]
  },
  {
   "cell_type": "markdown",
   "metadata": {},
   "source": [
    "#### ANOVA"
   ]
  },
  {
   "cell_type": "markdown",
   "metadata": {},
   "source": [
    "el resultado del estadistico valor $P = 0.099$ en este caso es muy ceracano al limite 0.05. Usando estrictamente la prueba, se deberia concluir que no hay evidencia suficiente de significancia estadistica, y se acepta la hipotesis nula. Los tres grupos tendrian sus calificaciones repartidos de forma normal, y aleatoria, y no habria efecto por la clase de lealtad. En otras palabras, la pertenencia a alguno de las clases altas no hace que se favorezca más, ni menos, la calificación del servicio, respecto al grupo de regulares.\n"
   ]
  },
  {
   "cell_type": "markdown",
   "metadata": {},
   "source": [
    "### Numero de Pasajeros vs. Lealtad del Cliente"
   ]
  },
  {
   "cell_type": "code",
   "execution_count": 223,
   "metadata": {},
   "outputs": [
    {
     "data": {
      "image/png": "[encoded data removed]",
      "text/plain": [
       "<Figure size 640x480 with 1 Axes>"
      ]
     },
     "metadata": {},
     "output_type": "display_data"
    }
   ],
   "source": [
    "sns.boxplot(data=df_modelos, x=Num.pasajeros.value, y=Categ.lealtad.value, color=\"c\")\n",
    "plt.show()"
   ]
  },
  {
   "cell_type": "code",
   "execution_count": 109,
   "metadata": {},
   "outputs": [
    {
     "data": {
      "text/plain": [
       "Customer_Loyalty_Status\n",
       "Gold       [62, 60, 24, 33, 48, 72, 75, 39, 35, 28, 25, 6...\n",
       "Regular    [89, 78, 93, 86, 63, 96, 74, 24, 56, 62, 68, 2...\n",
       "Silver     [90, 58, 42, 59, 79, 42, 36, 39, 38, 46, 31, 2...\n",
       "Name: Number_of_Riders, dtype: object"
      ]
     },
     "metadata": {},
     "output_type": "display_data"
    },
    {
     "name": "stdout",
     "output_type": "stream",
     "text": [
      "Valor F: 2.384\n",
      "Valor P: 0.093\n"
     ]
    }
   ],
   "source": [
    "muestras_pasajeros = grupos_lealtad[Num.pasajeros.value].apply(np.array)\n",
    "display(muestras_pasajeros)\n",
    "resultados = f_oneway(*muestras_pasajeros) \n",
    "mostrar_anova(resultados)"
   ]
  },
  {
   "cell_type": "markdown",
   "metadata": {},
   "source": [
    "#### Interpretación Caja de bigotes:"
   ]
  },
  {
   "cell_type": "markdown",
   "metadata": {},
   "source": [
    "En la comparación de ambas variables, Las cajas de bigotes se ven similares, y la mediana de los grupos oro y plata se acercan al mismo valor de $59$. Las cajas del grupo plata y regular estan algo sesgadas, hacia la derecha e izquierda respectivamente respecto de la caja simetrica del oro. Sin embargo, estas diferencias no son suficientes para suponer alguna diferencia signficativa en la cantidad de pasajeros sobre los otros grupos. Los tres grupos parecen tener el mismo nivel de dispersión de los datos"
   ]
  },
  {
   "cell_type": "markdown",
   "metadata": {},
   "source": [
    "#### ANOVA"
   ]
  },
  {
   "cell_type": "markdown",
   "metadata": {},
   "source": [
    "El resultado de la prueba dio con un valor $P=0.093$. Este valor esta muy cerca del limite de $0.05$, pero esta por encima. Se concluye que hay suficiente evidencia para rechazar la hipotesis alternativa:\n",
    "no se observan diferencias significativas entre las medias de los grupos, y no se pueden concluir que afecten a la cantidad de pasajeros solicitando en el area."
   ]
  },
  {
   "cell_type": "markdown",
   "metadata": {},
   "source": [
    "### Duración del Viaje vs. Lealtad del Cliente"
   ]
  },
  {
   "cell_type": "code",
   "execution_count": 228,
   "metadata": {},
   "outputs": [
    {
     "data": {
      "image/png": "[encoded data removed]",
      "text/plain": [
       "<Figure size 640x480 with 1 Axes>"
      ]
     },
     "metadata": {},
     "output_type": "display_data"
    }
   ],
   "source": [
    "sns.boxplot(data=df_modelos, x=Num.duracion_esperada.value, y=Categ.lealtad.value, color=\"g\")\n",
    "plt.show()"
   ]
  },
  {
   "cell_type": "code",
   "execution_count": 111,
   "metadata": {},
   "outputs": [
    {
     "data": {
      "text/plain": [
       "Customer_Loyalty_Status\n",
       "Gold       [47, 144, 164, 22, 65, 30, 153, 48, 105, 94, 1...\n",
       "Regular    [134, 149, 16, 167, 102, 11, 139, 45, 162, 129...\n",
       "Silver     [90, 43, 76, 128, 128, 128, 83, 140, 54, 15, 8...\n",
       "Name: Expected_Ride_Duration, dtype: object"
      ]
     },
     "metadata": {},
     "output_type": "display_data"
    },
    {
     "name": "stdout",
     "output_type": "stream",
     "text": [
      "Valor F: 0.828\n",
      "Valor P: 0.437\n"
     ]
    }
   ],
   "source": [
    "muestras_duracion = grupos_lealtad[Num.duracion_esperada.value].apply(np.array)\n",
    "display(muestras_duracion)\n",
    "resultados = f_oneway(*muestras_duracion) \n",
    "mostrar_anova(resultados)"
   ]
  },
  {
   "cell_type": "markdown",
   "metadata": {},
   "source": [
    "#### Interpretación Caja de bigotes:"
   ]
  },
  {
   "cell_type": "markdown",
   "metadata": {},
   "source": [
    "Las cajas de bigotes se ven muy similars entre si, las medianas casi se alinean alrededor de $100$ minutos, y todas las cajas se ven simetricas. El grupo de la lealtad de oro tiene una caja algo mas grande, mostrando una variabilidad algo mayor. Los datos se ven distribuidos normalmente en los grupos regular y de plata, y parecen sesgados hacia valores altos en el grupo de oro. Estas diferencias apuntan a que las duraciones estan distribuidas de forma similar entre grupos, y que la clase de lealtad no es un factor que afecte la duración."
   ]
  },
  {
   "cell_type": "markdown",
   "metadata": {},
   "source": [
    "#### ANOVA"
   ]
  },
  {
   "cell_type": "markdown",
   "metadata": {},
   "source": [
    "El valor de la prueba da un valor de $P = 0.437$, que esta muy por encima del limite de $0.05$. Se puede concluir con seguridad que no hay relación entre la duración esperada del viaje\n",
    "y la clase de lealtad de los clientes. La duración debe variar respecto a otros factores."
   ]
  },
  {
   "cell_type": "markdown",
   "metadata": {},
   "source": [
    "## Conclusiones"
   ]
  },
  {
   "cell_type": "markdown",
   "metadata": {},
   "source": [
    "### Analisis Unidimensional"
   ]
  },
  {
   "cell_type": "markdown",
   "metadata": {},
   "source": [
    "- Entre las variables categoricas las modas fueron: la noche para la hora de agendamiento, la clase plata para la lealtad del cliente, la zona urbana para la locación, y se piden mayoritarimente vehiculos premium. Por parte de las numericas:\n",
    "\n",
    "   > - La cantidad esperada de pasajeros esperando el servico es de $60$.\n",
    "   > - Las calificaciones varian entre $3.5$ - $5.0$, siendo la calificación esperada de $4.25$. Esto indica que los clientes piensan que el servicio va desde mediocre a muy bueno.\n",
    "   > - La duración esperada estadisticamente es de $1$ hora, $39$ min.\n",
    "   > - El costo esperado del viaje es de $372$. \n",
    "\n",
    "- En general, en todas las variables categoricas se encontro que las frecuencias de sus valores eran muy similares, causando proporciones que se asemejan a lo esperado por la probabilidad. Todas las variables numericas, tomadas individualmente tienen una distribución normal o muy cercana a la normal. La unica variable donde se vio una desviación fue en el costo historico del viaje."
   ]
  },
  {
   "cell_type": "markdown",
   "metadata": {},
   "source": [
    "### Analisis Bidimensional"
   ]
  },
  {
   "cell_type": "markdown",
   "metadata": {},
   "source": [
    "- Se encontro una relación lineal fuerte entre las variables del *costo historico del viaje*, y *Duración esperada del viaje*, la cual se comprobó despues mediante una prueba de correlación entre variables. Esta relación corresponde al uso de la duración del viajes para controlar actualmente el costo de los viajes, en la estrategia de precios dinamicos.\n",
    "\n",
    "- No se encontraron otras relaciones relevantes entre los emparejamientos del *Cantidad de Pasajeros* vs. *Costo historico*, y la *Calificación de lo viajes* vs. *Costo historico de los viajes*. Esta ausencia se comprobó mediante pruebas de correlación. En un principio, tiene sentido que no haya relación, debido a que no se usan como entradas para el modelo de precios. La cantidad de pasajeros en el area deberia incluirse, ya que representa la demanda como tal del servicio, y esta deberia influir en el costo del servicio."
   ]
  },
  {
   "cell_type": "markdown",
   "metadata": {},
   "source": [
    "### Analisis Inferencial"
   ]
  },
  {
   "cell_type": "markdown",
   "metadata": {},
   "source": [
    "- No se encontraron relaciones significativas entre variables en las pruebas de chi-cuadrado. Las proporciones que se hallaron significativas en\n",
    "las tablas siguen las mismas tendencias que evaluando las variables por separado, y parece que los valores de la *Clase de Lealtad* no afecta las proporciones de las variables numericas evaluadas.\n",
    "\n",
    "- No se encontraron relaciones entre las variables numericas y las categoricas. Ni las cajas de bigotes mostraron relaciones significativas,\n",
    "ni las pruebas ANOVA mostraron evidencia suficiente para afirmar diferencias significativas enter medias. Sin embargo, las variables *Cantidad de Pasajeros* y *Calificacion del servicio* tenian valores $P$ muy cercanos al limite critico de $0.05$. Esto lleva a pensar que con mayor cantidad de datos, se podria encontrar evidencia para posibles relaciones, y que posiblemente sean adecuadas para la inclusión en el modelo de precios."
   ]
  },
  {
   "cell_type": "markdown",
   "metadata": {},
   "source": [
    "## Enlace Sustentación:"
   ]
  },
  {
   "cell_type": "markdown",
   "metadata": {},
   "source": [
    "## [Diapositivas](https://view.genially.com/66ff75d99b2ca5d6ff5c8ab3/presentation-informe-precios-dinamicos)"
   ]
  },
  {
   "cell_type": "markdown",
   "metadata": {},
   "source": [
    "## [Presentación](https://youtu.be/2kUlvPQi5dU)"
   ]
  },
  {
   "cell_type": "markdown",
   "metadata": {
    "id": "XNraS_lWFkk_"
   },
   "source": [
    "# Referencias"
   ]
  },
  {
   "cell_type": "markdown",
   "metadata": {
    "id": "Oq6SWYx1FmmS"
   },
   "source": [
    "- Kane, F. (2017). Hands-On Data Science and Python Machine Learning. Packt\n",
    "Publishing.\n",
    "\n",
    "- Rubio, M. (2019). Estadística con aplicaciones en R. Utadeo.\n",
    "\n",
    "- Samuels, M., Witmer, J., & Shaffner, A. (2012). Fundamentos de Estadística Para Las Ciencias de la Vida (4th ed.). Pearson.\n",
    "\n"
   ]
  }
 ],
 "metadata": {
  "colab": {
   "provenance": []
  },
  "kernelspec": {
   "display_name": "Python 3 (ipykernel)",
   "language": "python",
   "name": "python3"
  },
  "language_info": {
   "codemirror_mode": {
    "name": "ipython",
    "version": 3
   },
   "file_extension": ".py",
   "mimetype": "text/x-python",
   "name": "python",
   "nbconvert_exporter": "python",
   "pygments_lexer": "ipython3",
   "version": "3.11.9"
  }
 },
 "nbformat": 4,
 "nbformat_minor": 4
}
